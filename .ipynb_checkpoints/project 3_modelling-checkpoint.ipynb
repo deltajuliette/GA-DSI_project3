{
 "cells": [
  {
   "cell_type": "markdown",
   "id": "6c451e7c",
   "metadata": {},
   "source": [
    "# Reiterating our Problem Statement\n",
    "\n",
    "We are a group of data scientists representing a yoga studio. We want to differentiate our approach and maximise the effectiveness of our marketing campaigns to yoga enthusiasts.\n",
    "\n",
    "Our approach is detailed below:\n",
    "- Grouping posts from reddit r\\yoga and r\\Meditation (which are similar in nature)\n",
    "- Exploring the similarities, but focusing on exploiting differences between both subgroups\n",
    "- Build an effective *classification* model to better target yoga enthusiasts (aka. r/yoga users; Maximise marketing spend)\n",
    "\n",
    "\n",
    "*Rubic (Tailor accordingly*\n",
    "- Is it clear what the goal of the project is? (Y)\n",
    "- What type of model will be developed?\n",
    "- How will success be evaluated?\n",
    "- Is the scope of the project appropriate?\n",
    "- Is it clear who cares about this or why this is important to investigate?\n",
    "- Does the student consider the audience and the primary and secondary stakeholders?"
   ]
  },
  {
   "cell_type": "markdown",
   "id": "1b154801",
   "metadata": {},
   "source": [
    "# Modelling"
   ]
  },
  {
   "cell_type": "code",
   "execution_count": 183,
   "id": "eb03fac9",
   "metadata": {},
   "outputs": [],
   "source": [
    "# Import necessary libraries\n",
    "import requests\n",
    "import pandas as pd\n",
    "import numpy as np\n",
    "from datetime import datetime\n",
    "import matplotlib.pyplot as plt\n",
    "from matplotlib_venn import venn2, venn2_circles, venn2_unweighted\n",
    "from matplotlib_venn import venn3, venn3_circles\n",
    "import seaborn as sns\n",
    "import redditcleaner\n",
    "import gensim\n",
    "\n",
    "from nltk.tokenize import sent_tokenize, word_tokenize, RegexpTokenizer\n",
    "from nltk.stem import WordNetLemmatizer\n",
    "from nltk.stem.porter import PorterStemmer\n",
    "from nltk.corpus import stopwords\n",
    "from nltk.sentiment.vader import SentimentIntensityAnalyzer\n",
    "import re\n",
    "\n",
    "from sklearn.feature_extraction.text import CountVectorizer, TfidfVectorizer\n",
    "from sklearn.metrics import accuracy_score, precision_score, recall_score, f1_score, confusion_matrix, plot_confusion_matrix, classification_report, roc_auc_score, plot_roc_curve\n",
    "from sklearn.linear_model import LogisticRegression\n",
    "from sklearn.model_selection import train_test_split, GridSearchCV\n",
    "from sklearn.pipeline import Pipeline\n",
    "from sklearn.neighbors import KNeighborsClassifier\n",
    "from sklearn.naive_bayes import MultinomialNB\n",
    "from sklearn.metrics import confusion_matrix, plot_confusion_matrix\n",
    "from sklearn.ensemble import RandomForestClassifier, RandomForestRegressor, ExtraTreesClassifier, GradientBoostingClassifier, AdaBoostClassifier, VotingClassifier, BaggingClassifier\n",
    "\n",
    "import warnings\n",
    "warnings.filterwarnings('ignore') # Ensuring the notebook remains tidy"
   ]
  },
  {
   "cell_type": "code",
   "execution_count": 184,
   "id": "0845d0cc",
   "metadata": {},
   "outputs": [],
   "source": [
    "# Read cleaned messages\n",
    "messages = pd.read_csv('./data/cleaned_messages.csv', na_values='str', index_col=[0])"
   ]
  },
  {
   "cell_type": "code",
   "execution_count": 185,
   "id": "56b9272f",
   "metadata": {},
   "outputs": [
    {
     "name": "stdout",
     "output_type": "stream",
     "text": [
      "<class 'pandas.core.frame.DataFrame'>\n",
      "Int64Index: 1696 entries, 3 to 2997\n",
      "Data columns (total 4 columns):\n",
      " #   Column           Non-Null Count  Dtype \n",
      "---  ------           --------------  ----- \n",
      " 0   subreddit        1696 non-null   int64 \n",
      " 1   combined         1696 non-null   object\n",
      " 2   selftext_lem     1696 non-null   object\n",
      " 3   selftext_gensim  1696 non-null   object\n",
      "dtypes: int64(1), object(3)\n",
      "memory usage: 66.2+ KB\n"
     ]
    }
   ],
   "source": [
    "messages = messages.dropna()\n",
    "messages.info()"
   ]
  },
  {
   "cell_type": "code",
   "execution_count": 186,
   "id": "d2610d23",
   "metadata": {},
   "outputs": [],
   "source": [
    "X = messages['selftext_gensim']\n",
    "y = messages['subreddit']"
   ]
  },
  {
   "cell_type": "code",
   "execution_count": 187,
   "id": "39c017ba",
   "metadata": {},
   "outputs": [
    {
     "data": {
      "text/plain": [
       "0    0.584316\n",
       "1    0.415684\n",
       "Name: subreddit, dtype: float64"
      ]
     },
     "execution_count": 187,
     "metadata": {},
     "output_type": "execute_result"
    }
   ],
   "source": [
    "# Finding the baseline\n",
    "y.value_counts(normalize = True)"
   ]
  },
  {
   "cell_type": "code",
   "execution_count": 188,
   "id": "f30b460d",
   "metadata": {},
   "outputs": [],
   "source": [
    "# Splitting the data into training and testing sets\n",
    "X_train, X_test, y_train, y_test = train_test_split(X, y, stratify=y, random_state=42)"
   ]
  },
  {
   "cell_type": "code",
   "execution_count": 189,
   "id": "7b72995d",
   "metadata": {
    "scrolled": false
   },
   "outputs": [
    {
     "name": "stdout",
     "output_type": "stream",
     "text": [
      "yoga flow w/ downward dog forward fold point online videos/routines flow avoiding positions? pt said needed avoid bulging disc weightlifting. i'd prefer flow like yin yoga possible, routine variety. thanks!\n"
     ]
    },
    {
     "data": {
      "text/plain": [
       "266     yoga flow w/ downward dog forward fold point o...\n",
       "2865    important pre-meditation warm ? abdominal brea...\n",
       "467     men's pant yoga running? hello. seeking advice...\n",
       "2659    day meditating irritated i'm happy ? it's year...\n",
       "845     yoga virgin i'm male san antonio texas,eager t...\n",
       "Name: selftext_gensim, dtype: object"
      ]
     },
     "execution_count": 189,
     "metadata": {},
     "output_type": "execute_result"
    }
   ],
   "source": [
    "print(X_train.iloc[0])\n",
    "X_train.head()"
   ]
  },
  {
   "cell_type": "markdown",
   "id": "b6bdb0ef",
   "metadata": {},
   "source": [
    "## Logistic Regression"
   ]
  },
  {
   "cell_type": "markdown",
   "id": "9ad9e5e3",
   "metadata": {},
   "source": [
    "**Logistic Regression with Count Vectorizer**"
   ]
  },
  {
   "cell_type": "code",
   "execution_count": 161,
   "id": "243e245c",
   "metadata": {},
   "outputs": [],
   "source": [
    "custom_stopwords = ['english', 'yoga', 'meditation', 've', 'it', 'wa', 'like', 'ha', \n",
    "                    'meditating', 'meditator', 'meditative', 'meditate', 'don', 'amp']"
   ]
  },
  {
   "cell_type": "code",
   "execution_count": 162,
   "id": "25d49054",
   "metadata": {},
   "outputs": [],
   "source": [
    "# Set-up pipeline for CVEC\n",
    "pipe_logr_cvec = Pipeline([\n",
    "    ('cvec', CountVectorizer()),\n",
    "    ('logr', LogisticRegression())\n",
    "])"
   ]
  },
  {
   "cell_type": "code",
   "execution_count": 163,
   "id": "556d83c3",
   "metadata": {},
   "outputs": [],
   "source": [
    "# Obtain parameter keys\n",
    "#sorted(pipe_logr_cvec.get_params().keys())"
   ]
  },
  {
   "cell_type": "code",
   "execution_count": 164,
   "id": "02ce7b96",
   "metadata": {},
   "outputs": [],
   "source": [
    "# Set up parameters specific to CVEC and logistic regression\n",
    "logr_cvec_params = {\n",
    "    'cvec__stop_words': [custom_stopwords],\n",
    "    'cvec__max_features': [2000, 3000, 4000],\n",
    "    'cvec__min_df': [2, 3],\n",
    "    'cvec__max_df': [.9, .95],\n",
    "    'cvec__ngram_range': [(1,1), (1,2)],\n",
    "    'logr__max_iter': [100, 200]\n",
    "}"
   ]
  },
  {
   "cell_type": "code",
   "execution_count": 165,
   "id": "72c9abca",
   "metadata": {},
   "outputs": [],
   "source": [
    "# Initialize GridSearchCV\n",
    "gs_logr_cvec = GridSearchCV(pipe_logr_cvec, param_grid = logr_cvec_params, cv=5, verbose=1)"
   ]
  },
  {
   "cell_type": "code",
   "execution_count": 166,
   "id": "1d81dd51",
   "metadata": {},
   "outputs": [
    {
     "name": "stdout",
     "output_type": "stream",
     "text": [
      "Fitting 5 folds for each of 48 candidates, totalling 240 fits\n"
     ]
    },
    {
     "ename": "KeyboardInterrupt",
     "evalue": "",
     "output_type": "error",
     "traceback": [
      "\u001b[1;31m---------------------------------------------------------------------------\u001b[0m",
      "\u001b[1;31mKeyboardInterrupt\u001b[0m                         Traceback (most recent call last)",
      "\u001b[1;32m<timed eval>\u001b[0m in \u001b[0;36m<module>\u001b[1;34m\u001b[0m\n",
      "\u001b[1;32m~\\anaconda3\\lib\\site-packages\\sklearn\\utils\\validation.py\u001b[0m in \u001b[0;36minner_f\u001b[1;34m(*args, **kwargs)\u001b[0m\n\u001b[0;32m     61\u001b[0m             \u001b[0mextra_args\u001b[0m \u001b[1;33m=\u001b[0m \u001b[0mlen\u001b[0m\u001b[1;33m(\u001b[0m\u001b[0margs\u001b[0m\u001b[1;33m)\u001b[0m \u001b[1;33m-\u001b[0m \u001b[0mlen\u001b[0m\u001b[1;33m(\u001b[0m\u001b[0mall_args\u001b[0m\u001b[1;33m)\u001b[0m\u001b[1;33m\u001b[0m\u001b[1;33m\u001b[0m\u001b[0m\n\u001b[0;32m     62\u001b[0m             \u001b[1;32mif\u001b[0m \u001b[0mextra_args\u001b[0m \u001b[1;33m<=\u001b[0m \u001b[1;36m0\u001b[0m\u001b[1;33m:\u001b[0m\u001b[1;33m\u001b[0m\u001b[1;33m\u001b[0m\u001b[0m\n\u001b[1;32m---> 63\u001b[1;33m                 \u001b[1;32mreturn\u001b[0m \u001b[0mf\u001b[0m\u001b[1;33m(\u001b[0m\u001b[1;33m*\u001b[0m\u001b[0margs\u001b[0m\u001b[1;33m,\u001b[0m \u001b[1;33m**\u001b[0m\u001b[0mkwargs\u001b[0m\u001b[1;33m)\u001b[0m\u001b[1;33m\u001b[0m\u001b[1;33m\u001b[0m\u001b[0m\n\u001b[0m\u001b[0;32m     64\u001b[0m \u001b[1;33m\u001b[0m\u001b[0m\n\u001b[0;32m     65\u001b[0m             \u001b[1;31m# extra_args > 0\u001b[0m\u001b[1;33m\u001b[0m\u001b[1;33m\u001b[0m\u001b[1;33m\u001b[0m\u001b[0m\n",
      "\u001b[1;32m~\\anaconda3\\lib\\site-packages\\sklearn\\model_selection\\_search.py\u001b[0m in \u001b[0;36mfit\u001b[1;34m(self, X, y, groups, **fit_params)\u001b[0m\n\u001b[0;32m    839\u001b[0m                 \u001b[1;32mreturn\u001b[0m \u001b[0mresults\u001b[0m\u001b[1;33m\u001b[0m\u001b[1;33m\u001b[0m\u001b[0m\n\u001b[0;32m    840\u001b[0m \u001b[1;33m\u001b[0m\u001b[0m\n\u001b[1;32m--> 841\u001b[1;33m             \u001b[0mself\u001b[0m\u001b[1;33m.\u001b[0m\u001b[0m_run_search\u001b[0m\u001b[1;33m(\u001b[0m\u001b[0mevaluate_candidates\u001b[0m\u001b[1;33m)\u001b[0m\u001b[1;33m\u001b[0m\u001b[1;33m\u001b[0m\u001b[0m\n\u001b[0m\u001b[0;32m    842\u001b[0m \u001b[1;33m\u001b[0m\u001b[0m\n\u001b[0;32m    843\u001b[0m             \u001b[1;31m# multimetric is determined here because in the case of a callable\u001b[0m\u001b[1;33m\u001b[0m\u001b[1;33m\u001b[0m\u001b[1;33m\u001b[0m\u001b[0m\n",
      "\u001b[1;32m~\\anaconda3\\lib\\site-packages\\sklearn\\model_selection\\_search.py\u001b[0m in \u001b[0;36m_run_search\u001b[1;34m(self, evaluate_candidates)\u001b[0m\n\u001b[0;32m   1286\u001b[0m     \u001b[1;32mdef\u001b[0m \u001b[0m_run_search\u001b[0m\u001b[1;33m(\u001b[0m\u001b[0mself\u001b[0m\u001b[1;33m,\u001b[0m \u001b[0mevaluate_candidates\u001b[0m\u001b[1;33m)\u001b[0m\u001b[1;33m:\u001b[0m\u001b[1;33m\u001b[0m\u001b[1;33m\u001b[0m\u001b[0m\n\u001b[0;32m   1287\u001b[0m         \u001b[1;34m\"\"\"Search all candidates in param_grid\"\"\"\u001b[0m\u001b[1;33m\u001b[0m\u001b[1;33m\u001b[0m\u001b[0m\n\u001b[1;32m-> 1288\u001b[1;33m         \u001b[0mevaluate_candidates\u001b[0m\u001b[1;33m(\u001b[0m\u001b[0mParameterGrid\u001b[0m\u001b[1;33m(\u001b[0m\u001b[0mself\u001b[0m\u001b[1;33m.\u001b[0m\u001b[0mparam_grid\u001b[0m\u001b[1;33m)\u001b[0m\u001b[1;33m)\u001b[0m\u001b[1;33m\u001b[0m\u001b[1;33m\u001b[0m\u001b[0m\n\u001b[0m\u001b[0;32m   1289\u001b[0m \u001b[1;33m\u001b[0m\u001b[0m\n\u001b[0;32m   1290\u001b[0m \u001b[1;33m\u001b[0m\u001b[0m\n",
      "\u001b[1;32m~\\anaconda3\\lib\\site-packages\\sklearn\\model_selection\\_search.py\u001b[0m in \u001b[0;36mevaluate_candidates\u001b[1;34m(candidate_params, cv, more_results)\u001b[0m\n\u001b[0;32m    793\u001b[0m                               n_splits, n_candidates, n_candidates * n_splits))\n\u001b[0;32m    794\u001b[0m \u001b[1;33m\u001b[0m\u001b[0m\n\u001b[1;32m--> 795\u001b[1;33m                 out = parallel(delayed(_fit_and_score)(clone(base_estimator),\n\u001b[0m\u001b[0;32m    796\u001b[0m                                                        \u001b[0mX\u001b[0m\u001b[1;33m,\u001b[0m \u001b[0my\u001b[0m\u001b[1;33m,\u001b[0m\u001b[1;33m\u001b[0m\u001b[1;33m\u001b[0m\u001b[0m\n\u001b[0;32m    797\u001b[0m                                                        \u001b[0mtrain\u001b[0m\u001b[1;33m=\u001b[0m\u001b[0mtrain\u001b[0m\u001b[1;33m,\u001b[0m \u001b[0mtest\u001b[0m\u001b[1;33m=\u001b[0m\u001b[0mtest\u001b[0m\u001b[1;33m,\u001b[0m\u001b[1;33m\u001b[0m\u001b[1;33m\u001b[0m\u001b[0m\n",
      "\u001b[1;32m~\\anaconda3\\lib\\site-packages\\joblib\\parallel.py\u001b[0m in \u001b[0;36m__call__\u001b[1;34m(self, iterable)\u001b[0m\n\u001b[0;32m   1042\u001b[0m                 \u001b[0mself\u001b[0m\u001b[1;33m.\u001b[0m\u001b[0m_iterating\u001b[0m \u001b[1;33m=\u001b[0m \u001b[0mself\u001b[0m\u001b[1;33m.\u001b[0m\u001b[0m_original_iterator\u001b[0m \u001b[1;32mis\u001b[0m \u001b[1;32mnot\u001b[0m \u001b[1;32mNone\u001b[0m\u001b[1;33m\u001b[0m\u001b[1;33m\u001b[0m\u001b[0m\n\u001b[0;32m   1043\u001b[0m \u001b[1;33m\u001b[0m\u001b[0m\n\u001b[1;32m-> 1044\u001b[1;33m             \u001b[1;32mwhile\u001b[0m \u001b[0mself\u001b[0m\u001b[1;33m.\u001b[0m\u001b[0mdispatch_one_batch\u001b[0m\u001b[1;33m(\u001b[0m\u001b[0miterator\u001b[0m\u001b[1;33m)\u001b[0m\u001b[1;33m:\u001b[0m\u001b[1;33m\u001b[0m\u001b[1;33m\u001b[0m\u001b[0m\n\u001b[0m\u001b[0;32m   1045\u001b[0m                 \u001b[1;32mpass\u001b[0m\u001b[1;33m\u001b[0m\u001b[1;33m\u001b[0m\u001b[0m\n\u001b[0;32m   1046\u001b[0m \u001b[1;33m\u001b[0m\u001b[0m\n",
      "\u001b[1;32m~\\anaconda3\\lib\\site-packages\\joblib\\parallel.py\u001b[0m in \u001b[0;36mdispatch_one_batch\u001b[1;34m(self, iterator)\u001b[0m\n\u001b[0;32m    857\u001b[0m                 \u001b[1;32mreturn\u001b[0m \u001b[1;32mFalse\u001b[0m\u001b[1;33m\u001b[0m\u001b[1;33m\u001b[0m\u001b[0m\n\u001b[0;32m    858\u001b[0m             \u001b[1;32melse\u001b[0m\u001b[1;33m:\u001b[0m\u001b[1;33m\u001b[0m\u001b[1;33m\u001b[0m\u001b[0m\n\u001b[1;32m--> 859\u001b[1;33m                 \u001b[0mself\u001b[0m\u001b[1;33m.\u001b[0m\u001b[0m_dispatch\u001b[0m\u001b[1;33m(\u001b[0m\u001b[0mtasks\u001b[0m\u001b[1;33m)\u001b[0m\u001b[1;33m\u001b[0m\u001b[1;33m\u001b[0m\u001b[0m\n\u001b[0m\u001b[0;32m    860\u001b[0m                 \u001b[1;32mreturn\u001b[0m \u001b[1;32mTrue\u001b[0m\u001b[1;33m\u001b[0m\u001b[1;33m\u001b[0m\u001b[0m\n\u001b[0;32m    861\u001b[0m \u001b[1;33m\u001b[0m\u001b[0m\n",
      "\u001b[1;32m~\\anaconda3\\lib\\site-packages\\joblib\\parallel.py\u001b[0m in \u001b[0;36m_dispatch\u001b[1;34m(self, batch)\u001b[0m\n\u001b[0;32m    775\u001b[0m         \u001b[1;32mwith\u001b[0m \u001b[0mself\u001b[0m\u001b[1;33m.\u001b[0m\u001b[0m_lock\u001b[0m\u001b[1;33m:\u001b[0m\u001b[1;33m\u001b[0m\u001b[1;33m\u001b[0m\u001b[0m\n\u001b[0;32m    776\u001b[0m             \u001b[0mjob_idx\u001b[0m \u001b[1;33m=\u001b[0m \u001b[0mlen\u001b[0m\u001b[1;33m(\u001b[0m\u001b[0mself\u001b[0m\u001b[1;33m.\u001b[0m\u001b[0m_jobs\u001b[0m\u001b[1;33m)\u001b[0m\u001b[1;33m\u001b[0m\u001b[1;33m\u001b[0m\u001b[0m\n\u001b[1;32m--> 777\u001b[1;33m             \u001b[0mjob\u001b[0m \u001b[1;33m=\u001b[0m \u001b[0mself\u001b[0m\u001b[1;33m.\u001b[0m\u001b[0m_backend\u001b[0m\u001b[1;33m.\u001b[0m\u001b[0mapply_async\u001b[0m\u001b[1;33m(\u001b[0m\u001b[0mbatch\u001b[0m\u001b[1;33m,\u001b[0m \u001b[0mcallback\u001b[0m\u001b[1;33m=\u001b[0m\u001b[0mcb\u001b[0m\u001b[1;33m)\u001b[0m\u001b[1;33m\u001b[0m\u001b[1;33m\u001b[0m\u001b[0m\n\u001b[0m\u001b[0;32m    778\u001b[0m             \u001b[1;31m# A job can complete so quickly than its callback is\u001b[0m\u001b[1;33m\u001b[0m\u001b[1;33m\u001b[0m\u001b[1;33m\u001b[0m\u001b[0m\n\u001b[0;32m    779\u001b[0m             \u001b[1;31m# called before we get here, causing self._jobs to\u001b[0m\u001b[1;33m\u001b[0m\u001b[1;33m\u001b[0m\u001b[1;33m\u001b[0m\u001b[0m\n",
      "\u001b[1;32m~\\anaconda3\\lib\\site-packages\\joblib\\_parallel_backends.py\u001b[0m in \u001b[0;36mapply_async\u001b[1;34m(self, func, callback)\u001b[0m\n\u001b[0;32m    206\u001b[0m     \u001b[1;32mdef\u001b[0m \u001b[0mapply_async\u001b[0m\u001b[1;33m(\u001b[0m\u001b[0mself\u001b[0m\u001b[1;33m,\u001b[0m \u001b[0mfunc\u001b[0m\u001b[1;33m,\u001b[0m \u001b[0mcallback\u001b[0m\u001b[1;33m=\u001b[0m\u001b[1;32mNone\u001b[0m\u001b[1;33m)\u001b[0m\u001b[1;33m:\u001b[0m\u001b[1;33m\u001b[0m\u001b[1;33m\u001b[0m\u001b[0m\n\u001b[0;32m    207\u001b[0m         \u001b[1;34m\"\"\"Schedule a func to be run\"\"\"\u001b[0m\u001b[1;33m\u001b[0m\u001b[1;33m\u001b[0m\u001b[0m\n\u001b[1;32m--> 208\u001b[1;33m         \u001b[0mresult\u001b[0m \u001b[1;33m=\u001b[0m \u001b[0mImmediateResult\u001b[0m\u001b[1;33m(\u001b[0m\u001b[0mfunc\u001b[0m\u001b[1;33m)\u001b[0m\u001b[1;33m\u001b[0m\u001b[1;33m\u001b[0m\u001b[0m\n\u001b[0m\u001b[0;32m    209\u001b[0m         \u001b[1;32mif\u001b[0m \u001b[0mcallback\u001b[0m\u001b[1;33m:\u001b[0m\u001b[1;33m\u001b[0m\u001b[1;33m\u001b[0m\u001b[0m\n\u001b[0;32m    210\u001b[0m             \u001b[0mcallback\u001b[0m\u001b[1;33m(\u001b[0m\u001b[0mresult\u001b[0m\u001b[1;33m)\u001b[0m\u001b[1;33m\u001b[0m\u001b[1;33m\u001b[0m\u001b[0m\n",
      "\u001b[1;32m~\\anaconda3\\lib\\site-packages\\joblib\\_parallel_backends.py\u001b[0m in \u001b[0;36m__init__\u001b[1;34m(self, batch)\u001b[0m\n\u001b[0;32m    570\u001b[0m         \u001b[1;31m# Don't delay the application, to avoid keeping the input\u001b[0m\u001b[1;33m\u001b[0m\u001b[1;33m\u001b[0m\u001b[1;33m\u001b[0m\u001b[0m\n\u001b[0;32m    571\u001b[0m         \u001b[1;31m# arguments in memory\u001b[0m\u001b[1;33m\u001b[0m\u001b[1;33m\u001b[0m\u001b[1;33m\u001b[0m\u001b[0m\n\u001b[1;32m--> 572\u001b[1;33m         \u001b[0mself\u001b[0m\u001b[1;33m.\u001b[0m\u001b[0mresults\u001b[0m \u001b[1;33m=\u001b[0m \u001b[0mbatch\u001b[0m\u001b[1;33m(\u001b[0m\u001b[1;33m)\u001b[0m\u001b[1;33m\u001b[0m\u001b[1;33m\u001b[0m\u001b[0m\n\u001b[0m\u001b[0;32m    573\u001b[0m \u001b[1;33m\u001b[0m\u001b[0m\n\u001b[0;32m    574\u001b[0m     \u001b[1;32mdef\u001b[0m \u001b[0mget\u001b[0m\u001b[1;33m(\u001b[0m\u001b[0mself\u001b[0m\u001b[1;33m)\u001b[0m\u001b[1;33m:\u001b[0m\u001b[1;33m\u001b[0m\u001b[1;33m\u001b[0m\u001b[0m\n",
      "\u001b[1;32m~\\anaconda3\\lib\\site-packages\\joblib\\parallel.py\u001b[0m in \u001b[0;36m__call__\u001b[1;34m(self)\u001b[0m\n\u001b[0;32m    260\u001b[0m         \u001b[1;31m# change the default number of processes to -1\u001b[0m\u001b[1;33m\u001b[0m\u001b[1;33m\u001b[0m\u001b[1;33m\u001b[0m\u001b[0m\n\u001b[0;32m    261\u001b[0m         \u001b[1;32mwith\u001b[0m \u001b[0mparallel_backend\u001b[0m\u001b[1;33m(\u001b[0m\u001b[0mself\u001b[0m\u001b[1;33m.\u001b[0m\u001b[0m_backend\u001b[0m\u001b[1;33m,\u001b[0m \u001b[0mn_jobs\u001b[0m\u001b[1;33m=\u001b[0m\u001b[0mself\u001b[0m\u001b[1;33m.\u001b[0m\u001b[0m_n_jobs\u001b[0m\u001b[1;33m)\u001b[0m\u001b[1;33m:\u001b[0m\u001b[1;33m\u001b[0m\u001b[1;33m\u001b[0m\u001b[0m\n\u001b[1;32m--> 262\u001b[1;33m             return [func(*args, **kwargs)\n\u001b[0m\u001b[0;32m    263\u001b[0m                     for func, args, kwargs in self.items]\n\u001b[0;32m    264\u001b[0m \u001b[1;33m\u001b[0m\u001b[0m\n",
      "\u001b[1;32m~\\anaconda3\\lib\\site-packages\\joblib\\parallel.py\u001b[0m in \u001b[0;36m<listcomp>\u001b[1;34m(.0)\u001b[0m\n\u001b[0;32m    260\u001b[0m         \u001b[1;31m# change the default number of processes to -1\u001b[0m\u001b[1;33m\u001b[0m\u001b[1;33m\u001b[0m\u001b[1;33m\u001b[0m\u001b[0m\n\u001b[0;32m    261\u001b[0m         \u001b[1;32mwith\u001b[0m \u001b[0mparallel_backend\u001b[0m\u001b[1;33m(\u001b[0m\u001b[0mself\u001b[0m\u001b[1;33m.\u001b[0m\u001b[0m_backend\u001b[0m\u001b[1;33m,\u001b[0m \u001b[0mn_jobs\u001b[0m\u001b[1;33m=\u001b[0m\u001b[0mself\u001b[0m\u001b[1;33m.\u001b[0m\u001b[0m_n_jobs\u001b[0m\u001b[1;33m)\u001b[0m\u001b[1;33m:\u001b[0m\u001b[1;33m\u001b[0m\u001b[1;33m\u001b[0m\u001b[0m\n\u001b[1;32m--> 262\u001b[1;33m             return [func(*args, **kwargs)\n\u001b[0m\u001b[0;32m    263\u001b[0m                     for func, args, kwargs in self.items]\n\u001b[0;32m    264\u001b[0m \u001b[1;33m\u001b[0m\u001b[0m\n",
      "\u001b[1;32m~\\anaconda3\\lib\\site-packages\\sklearn\\utils\\fixes.py\u001b[0m in \u001b[0;36m__call__\u001b[1;34m(self, *args, **kwargs)\u001b[0m\n\u001b[0;32m    220\u001b[0m     \u001b[1;32mdef\u001b[0m \u001b[0m__call__\u001b[0m\u001b[1;33m(\u001b[0m\u001b[0mself\u001b[0m\u001b[1;33m,\u001b[0m \u001b[1;33m*\u001b[0m\u001b[0margs\u001b[0m\u001b[1;33m,\u001b[0m \u001b[1;33m**\u001b[0m\u001b[0mkwargs\u001b[0m\u001b[1;33m)\u001b[0m\u001b[1;33m:\u001b[0m\u001b[1;33m\u001b[0m\u001b[1;33m\u001b[0m\u001b[0m\n\u001b[0;32m    221\u001b[0m         \u001b[1;32mwith\u001b[0m \u001b[0mconfig_context\u001b[0m\u001b[1;33m(\u001b[0m\u001b[1;33m**\u001b[0m\u001b[0mself\u001b[0m\u001b[1;33m.\u001b[0m\u001b[0mconfig\u001b[0m\u001b[1;33m)\u001b[0m\u001b[1;33m:\u001b[0m\u001b[1;33m\u001b[0m\u001b[1;33m\u001b[0m\u001b[0m\n\u001b[1;32m--> 222\u001b[1;33m             \u001b[1;32mreturn\u001b[0m \u001b[0mself\u001b[0m\u001b[1;33m.\u001b[0m\u001b[0mfunction\u001b[0m\u001b[1;33m(\u001b[0m\u001b[1;33m*\u001b[0m\u001b[0margs\u001b[0m\u001b[1;33m,\u001b[0m \u001b[1;33m**\u001b[0m\u001b[0mkwargs\u001b[0m\u001b[1;33m)\u001b[0m\u001b[1;33m\u001b[0m\u001b[1;33m\u001b[0m\u001b[0m\n\u001b[0m",
      "\u001b[1;32m~\\anaconda3\\lib\\site-packages\\sklearn\\model_selection\\_validation.py\u001b[0m in \u001b[0;36m_fit_and_score\u001b[1;34m(estimator, X, y, scorer, train, test, verbose, parameters, fit_params, return_train_score, return_parameters, return_n_test_samples, return_times, return_estimator, split_progress, candidate_progress, error_score)\u001b[0m\n\u001b[0;32m    591\u001b[0m             \u001b[0mestimator\u001b[0m\u001b[1;33m.\u001b[0m\u001b[0mfit\u001b[0m\u001b[1;33m(\u001b[0m\u001b[0mX_train\u001b[0m\u001b[1;33m,\u001b[0m \u001b[1;33m**\u001b[0m\u001b[0mfit_params\u001b[0m\u001b[1;33m)\u001b[0m\u001b[1;33m\u001b[0m\u001b[1;33m\u001b[0m\u001b[0m\n\u001b[0;32m    592\u001b[0m         \u001b[1;32melse\u001b[0m\u001b[1;33m:\u001b[0m\u001b[1;33m\u001b[0m\u001b[1;33m\u001b[0m\u001b[0m\n\u001b[1;32m--> 593\u001b[1;33m             \u001b[0mestimator\u001b[0m\u001b[1;33m.\u001b[0m\u001b[0mfit\u001b[0m\u001b[1;33m(\u001b[0m\u001b[0mX_train\u001b[0m\u001b[1;33m,\u001b[0m \u001b[0my_train\u001b[0m\u001b[1;33m,\u001b[0m \u001b[1;33m**\u001b[0m\u001b[0mfit_params\u001b[0m\u001b[1;33m)\u001b[0m\u001b[1;33m\u001b[0m\u001b[1;33m\u001b[0m\u001b[0m\n\u001b[0m\u001b[0;32m    594\u001b[0m \u001b[1;33m\u001b[0m\u001b[0m\n\u001b[0;32m    595\u001b[0m     \u001b[1;32mexcept\u001b[0m \u001b[0mException\u001b[0m \u001b[1;32mas\u001b[0m \u001b[0me\u001b[0m\u001b[1;33m:\u001b[0m\u001b[1;33m\u001b[0m\u001b[1;33m\u001b[0m\u001b[0m\n",
      "\u001b[1;32m~\\anaconda3\\lib\\site-packages\\sklearn\\pipeline.py\u001b[0m in \u001b[0;36mfit\u001b[1;34m(self, X, y, **fit_params)\u001b[0m\n\u001b[0;32m    339\u001b[0m         \"\"\"\n\u001b[0;32m    340\u001b[0m         \u001b[0mfit_params_steps\u001b[0m \u001b[1;33m=\u001b[0m \u001b[0mself\u001b[0m\u001b[1;33m.\u001b[0m\u001b[0m_check_fit_params\u001b[0m\u001b[1;33m(\u001b[0m\u001b[1;33m**\u001b[0m\u001b[0mfit_params\u001b[0m\u001b[1;33m)\u001b[0m\u001b[1;33m\u001b[0m\u001b[1;33m\u001b[0m\u001b[0m\n\u001b[1;32m--> 341\u001b[1;33m         \u001b[0mXt\u001b[0m \u001b[1;33m=\u001b[0m \u001b[0mself\u001b[0m\u001b[1;33m.\u001b[0m\u001b[0m_fit\u001b[0m\u001b[1;33m(\u001b[0m\u001b[0mX\u001b[0m\u001b[1;33m,\u001b[0m \u001b[0my\u001b[0m\u001b[1;33m,\u001b[0m \u001b[1;33m**\u001b[0m\u001b[0mfit_params_steps\u001b[0m\u001b[1;33m)\u001b[0m\u001b[1;33m\u001b[0m\u001b[1;33m\u001b[0m\u001b[0m\n\u001b[0m\u001b[0;32m    342\u001b[0m         with _print_elapsed_time('Pipeline',\n\u001b[0;32m    343\u001b[0m                                  self._log_message(len(self.steps) - 1)):\n",
      "\u001b[1;32m~\\anaconda3\\lib\\site-packages\\sklearn\\pipeline.py\u001b[0m in \u001b[0;36m_fit\u001b[1;34m(self, X, y, **fit_params_steps)\u001b[0m\n\u001b[0;32m    301\u001b[0m                 \u001b[0mcloned_transformer\u001b[0m \u001b[1;33m=\u001b[0m \u001b[0mclone\u001b[0m\u001b[1;33m(\u001b[0m\u001b[0mtransformer\u001b[0m\u001b[1;33m)\u001b[0m\u001b[1;33m\u001b[0m\u001b[1;33m\u001b[0m\u001b[0m\n\u001b[0;32m    302\u001b[0m             \u001b[1;31m# Fit or load from cache the current transformer\u001b[0m\u001b[1;33m\u001b[0m\u001b[1;33m\u001b[0m\u001b[1;33m\u001b[0m\u001b[0m\n\u001b[1;32m--> 303\u001b[1;33m             X, fitted_transformer = fit_transform_one_cached(\n\u001b[0m\u001b[0;32m    304\u001b[0m                 \u001b[0mcloned_transformer\u001b[0m\u001b[1;33m,\u001b[0m \u001b[0mX\u001b[0m\u001b[1;33m,\u001b[0m \u001b[0my\u001b[0m\u001b[1;33m,\u001b[0m \u001b[1;32mNone\u001b[0m\u001b[1;33m,\u001b[0m\u001b[1;33m\u001b[0m\u001b[1;33m\u001b[0m\u001b[0m\n\u001b[0;32m    305\u001b[0m                 \u001b[0mmessage_clsname\u001b[0m\u001b[1;33m=\u001b[0m\u001b[1;34m'Pipeline'\u001b[0m\u001b[1;33m,\u001b[0m\u001b[1;33m\u001b[0m\u001b[1;33m\u001b[0m\u001b[0m\n",
      "\u001b[1;32m~\\anaconda3\\lib\\site-packages\\joblib\\memory.py\u001b[0m in \u001b[0;36m__call__\u001b[1;34m(self, *args, **kwargs)\u001b[0m\n\u001b[0;32m    350\u001b[0m \u001b[1;33m\u001b[0m\u001b[0m\n\u001b[0;32m    351\u001b[0m     \u001b[1;32mdef\u001b[0m \u001b[0m__call__\u001b[0m\u001b[1;33m(\u001b[0m\u001b[0mself\u001b[0m\u001b[1;33m,\u001b[0m \u001b[1;33m*\u001b[0m\u001b[0margs\u001b[0m\u001b[1;33m,\u001b[0m \u001b[1;33m**\u001b[0m\u001b[0mkwargs\u001b[0m\u001b[1;33m)\u001b[0m\u001b[1;33m:\u001b[0m\u001b[1;33m\u001b[0m\u001b[1;33m\u001b[0m\u001b[0m\n\u001b[1;32m--> 352\u001b[1;33m         \u001b[1;32mreturn\u001b[0m \u001b[0mself\u001b[0m\u001b[1;33m.\u001b[0m\u001b[0mfunc\u001b[0m\u001b[1;33m(\u001b[0m\u001b[1;33m*\u001b[0m\u001b[0margs\u001b[0m\u001b[1;33m,\u001b[0m \u001b[1;33m**\u001b[0m\u001b[0mkwargs\u001b[0m\u001b[1;33m)\u001b[0m\u001b[1;33m\u001b[0m\u001b[1;33m\u001b[0m\u001b[0m\n\u001b[0m\u001b[0;32m    353\u001b[0m \u001b[1;33m\u001b[0m\u001b[0m\n\u001b[0;32m    354\u001b[0m     \u001b[1;32mdef\u001b[0m \u001b[0mcall_and_shelve\u001b[0m\u001b[1;33m(\u001b[0m\u001b[0mself\u001b[0m\u001b[1;33m,\u001b[0m \u001b[1;33m*\u001b[0m\u001b[0margs\u001b[0m\u001b[1;33m,\u001b[0m \u001b[1;33m**\u001b[0m\u001b[0mkwargs\u001b[0m\u001b[1;33m)\u001b[0m\u001b[1;33m:\u001b[0m\u001b[1;33m\u001b[0m\u001b[1;33m\u001b[0m\u001b[0m\n",
      "\u001b[1;32m~\\anaconda3\\lib\\site-packages\\sklearn\\pipeline.py\u001b[0m in \u001b[0;36m_fit_transform_one\u001b[1;34m(transformer, X, y, weight, message_clsname, message, **fit_params)\u001b[0m\n\u001b[0;32m    752\u001b[0m     \u001b[1;32mwith\u001b[0m \u001b[0m_print_elapsed_time\u001b[0m\u001b[1;33m(\u001b[0m\u001b[0mmessage_clsname\u001b[0m\u001b[1;33m,\u001b[0m \u001b[0mmessage\u001b[0m\u001b[1;33m)\u001b[0m\u001b[1;33m:\u001b[0m\u001b[1;33m\u001b[0m\u001b[1;33m\u001b[0m\u001b[0m\n\u001b[0;32m    753\u001b[0m         \u001b[1;32mif\u001b[0m \u001b[0mhasattr\u001b[0m\u001b[1;33m(\u001b[0m\u001b[0mtransformer\u001b[0m\u001b[1;33m,\u001b[0m \u001b[1;34m'fit_transform'\u001b[0m\u001b[1;33m)\u001b[0m\u001b[1;33m:\u001b[0m\u001b[1;33m\u001b[0m\u001b[1;33m\u001b[0m\u001b[0m\n\u001b[1;32m--> 754\u001b[1;33m             \u001b[0mres\u001b[0m \u001b[1;33m=\u001b[0m \u001b[0mtransformer\u001b[0m\u001b[1;33m.\u001b[0m\u001b[0mfit_transform\u001b[0m\u001b[1;33m(\u001b[0m\u001b[0mX\u001b[0m\u001b[1;33m,\u001b[0m \u001b[0my\u001b[0m\u001b[1;33m,\u001b[0m \u001b[1;33m**\u001b[0m\u001b[0mfit_params\u001b[0m\u001b[1;33m)\u001b[0m\u001b[1;33m\u001b[0m\u001b[1;33m\u001b[0m\u001b[0m\n\u001b[0m\u001b[0;32m    755\u001b[0m         \u001b[1;32melse\u001b[0m\u001b[1;33m:\u001b[0m\u001b[1;33m\u001b[0m\u001b[1;33m\u001b[0m\u001b[0m\n\u001b[0;32m    756\u001b[0m             \u001b[0mres\u001b[0m \u001b[1;33m=\u001b[0m \u001b[0mtransformer\u001b[0m\u001b[1;33m.\u001b[0m\u001b[0mfit\u001b[0m\u001b[1;33m(\u001b[0m\u001b[0mX\u001b[0m\u001b[1;33m,\u001b[0m \u001b[0my\u001b[0m\u001b[1;33m,\u001b[0m \u001b[1;33m**\u001b[0m\u001b[0mfit_params\u001b[0m\u001b[1;33m)\u001b[0m\u001b[1;33m.\u001b[0m\u001b[0mtransform\u001b[0m\u001b[1;33m(\u001b[0m\u001b[0mX\u001b[0m\u001b[1;33m)\u001b[0m\u001b[1;33m\u001b[0m\u001b[1;33m\u001b[0m\u001b[0m\n",
      "\u001b[1;32m~\\anaconda3\\lib\\site-packages\\sklearn\\feature_extraction\\text.py\u001b[0m in \u001b[0;36mfit_transform\u001b[1;34m(self, raw_documents, y)\u001b[0m\n\u001b[0;32m   1201\u001b[0m         \u001b[0mmax_features\u001b[0m \u001b[1;33m=\u001b[0m \u001b[0mself\u001b[0m\u001b[1;33m.\u001b[0m\u001b[0mmax_features\u001b[0m\u001b[1;33m\u001b[0m\u001b[1;33m\u001b[0m\u001b[0m\n\u001b[0;32m   1202\u001b[0m \u001b[1;33m\u001b[0m\u001b[0m\n\u001b[1;32m-> 1203\u001b[1;33m         vocabulary, X = self._count_vocab(raw_documents,\n\u001b[0m\u001b[0;32m   1204\u001b[0m                                           self.fixed_vocabulary_)\n\u001b[0;32m   1205\u001b[0m \u001b[1;33m\u001b[0m\u001b[0m\n",
      "\u001b[1;32m~\\anaconda3\\lib\\site-packages\\sklearn\\feature_extraction\\text.py\u001b[0m in \u001b[0;36m_count_vocab\u001b[1;34m(self, raw_documents, fixed_vocab)\u001b[0m\n\u001b[0;32m   1115\u001b[0m             \u001b[1;32mfor\u001b[0m \u001b[0mfeature\u001b[0m \u001b[1;32min\u001b[0m \u001b[0manalyze\u001b[0m\u001b[1;33m(\u001b[0m\u001b[0mdoc\u001b[0m\u001b[1;33m)\u001b[0m\u001b[1;33m:\u001b[0m\u001b[1;33m\u001b[0m\u001b[1;33m\u001b[0m\u001b[0m\n\u001b[0;32m   1116\u001b[0m                 \u001b[1;32mtry\u001b[0m\u001b[1;33m:\u001b[0m\u001b[1;33m\u001b[0m\u001b[1;33m\u001b[0m\u001b[0m\n\u001b[1;32m-> 1117\u001b[1;33m                     \u001b[0mfeature_idx\u001b[0m \u001b[1;33m=\u001b[0m \u001b[0mvocabulary\u001b[0m\u001b[1;33m[\u001b[0m\u001b[0mfeature\u001b[0m\u001b[1;33m]\u001b[0m\u001b[1;33m\u001b[0m\u001b[1;33m\u001b[0m\u001b[0m\n\u001b[0m\u001b[0;32m   1118\u001b[0m                     \u001b[1;32mif\u001b[0m \u001b[0mfeature_idx\u001b[0m \u001b[1;32mnot\u001b[0m \u001b[1;32min\u001b[0m \u001b[0mfeature_counter\u001b[0m\u001b[1;33m:\u001b[0m\u001b[1;33m\u001b[0m\u001b[1;33m\u001b[0m\u001b[0m\n\u001b[0;32m   1119\u001b[0m                         \u001b[0mfeature_counter\u001b[0m\u001b[1;33m[\u001b[0m\u001b[0mfeature_idx\u001b[0m\u001b[1;33m]\u001b[0m \u001b[1;33m=\u001b[0m \u001b[1;36m1\u001b[0m\u001b[1;33m\u001b[0m\u001b[1;33m\u001b[0m\u001b[0m\n",
      "\u001b[1;31mKeyboardInterrupt\u001b[0m: "
     ]
    }
   ],
   "source": [
    "%%time\n",
    "\n",
    "# Fit model\n",
    "gs_logr_cvec.fit(X_train, y_train)"
   ]
  },
  {
   "cell_type": "code",
   "execution_count": 167,
   "id": "aca54c27",
   "metadata": {},
   "outputs": [
    {
     "ename": "AttributeError",
     "evalue": "'GridSearchCV' object has no attribute 'best_score_'",
     "output_type": "error",
     "traceback": [
      "\u001b[1;31m---------------------------------------------------------------------------\u001b[0m",
      "\u001b[1;31mAttributeError\u001b[0m                            Traceback (most recent call last)",
      "\u001b[1;32m<ipython-input-167-dbea4657d956>\u001b[0m in \u001b[0;36m<module>\u001b[1;34m\u001b[0m\n\u001b[1;32m----> 1\u001b[1;33m \u001b[0mprint\u001b[0m\u001b[1;33m(\u001b[0m\u001b[0mgs_logr_cvec\u001b[0m\u001b[1;33m.\u001b[0m\u001b[0mbest_score_\u001b[0m\u001b[1;33m)\u001b[0m\u001b[1;33m\u001b[0m\u001b[1;33m\u001b[0m\u001b[0m\n\u001b[0m\u001b[0;32m      2\u001b[0m \u001b[0mgs_logr_cvec\u001b[0m\u001b[1;33m.\u001b[0m\u001b[0mbest_params_\u001b[0m\u001b[1;33m\u001b[0m\u001b[1;33m\u001b[0m\u001b[0m\n",
      "\u001b[1;31mAttributeError\u001b[0m: 'GridSearchCV' object has no attribute 'best_score_'"
     ]
    }
   ],
   "source": [
    "print(gs_logr_cvec.best_score_)\n",
    "gs_logr_cvec.best_params_"
   ]
  },
  {
   "cell_type": "code",
   "execution_count": null,
   "id": "19842575",
   "metadata": {},
   "outputs": [],
   "source": [
    "# Scoring against our train split\n",
    "logr_cvec_accuracy_tr = np.round(gs_logr_cvec.score(X_train, y_train), 4)\n",
    "logr_cvec_accuracy_tr"
   ]
  },
  {
   "cell_type": "code",
   "execution_count": null,
   "id": "7c05a2bb",
   "metadata": {},
   "outputs": [],
   "source": [
    "# Scoring against our test data\n",
    "logr_cvec_accuracy = np.round(gs_logr_cvec.score(X_test, y_test), 4)\n",
    "logr_cvec_accuracy"
   ]
  },
  {
   "cell_type": "code",
   "execution_count": null,
   "id": "353bb8af",
   "metadata": {},
   "outputs": [],
   "source": [
    "# Obtain Precision score\n",
    "logr_cvec_precision = np.round(precision_score(y_test, gs_logr_cvec.predict(X_test)), 4)\n",
    "logr_cvec_precision"
   ]
  },
  {
   "cell_type": "code",
   "execution_count": null,
   "id": "a6c791fe",
   "metadata": {},
   "outputs": [],
   "source": [
    "# Obtain Recall score\n",
    "logr_cvec_recall = np.round(recall_score(y_test, gs_logr_cvec.predict(X_test)), 4)\n",
    "logr_cvec_recall"
   ]
  },
  {
   "cell_type": "code",
   "execution_count": null,
   "id": "ede08fb0",
   "metadata": {},
   "outputs": [],
   "source": [
    "# Obtain F1 score\n",
    "logr_cvec_f1 = np.round(f1_score(y_test, gs_logr_cvec.predict(X_test)), 4)\n",
    "logr_cvec_f1"
   ]
  },
  {
   "cell_type": "code",
   "execution_count": null,
   "id": "8d72b672",
   "metadata": {
    "scrolled": true
   },
   "outputs": [],
   "source": [
    "# Let's plot our ROC curve\n",
    "plot_roc_curve(gs_logr_cvec, X_test, y_test)\n",
    "plt.plot([0, 1], [0, 1], label = 'Baseline', linestyle = '--')\n",
    "plt.legend()\n",
    "plt.show()"
   ]
  },
  {
   "cell_type": "code",
   "execution_count": null,
   "id": "57ad3e8e",
   "metadata": {},
   "outputs": [],
   "source": [
    "# Obtain area under the ROC curve\n",
    "logr_cvec_roc_auc_score = np.round(roc_auc_score(y_test, gs_logr_cvec.predict_proba(X_test)[:,1]), 4)\n",
    "logr_cvec_roc_auc_score"
   ]
  },
  {
   "cell_type": "markdown",
   "id": "e93f16b8",
   "metadata": {},
   "source": [
    "**Logistic Regression with Tifdf**"
   ]
  },
  {
   "cell_type": "code",
   "execution_count": null,
   "id": "25b42b1d",
   "metadata": {},
   "outputs": [],
   "source": [
    "# Set-up pipeline for CVEC\n",
    "pipe_logr_tvec = Pipeline([\n",
    "    ('tvec', TfidfVectorizer()),\n",
    "    ('logr', LogisticRegression())\n",
    "])"
   ]
  },
  {
   "cell_type": "code",
   "execution_count": null,
   "id": "f86c775f",
   "metadata": {},
   "outputs": [],
   "source": [
    "logr_tvec_params = {\n",
    "    'tvec__max_features': [2_000, 3_000, 4_000, 5_000],\n",
    "    'tvec__stop_words': [custom_stopwords],\n",
    "    'tvec__ngram_range': [(1,1), (1,2)],\n",
    "    'logr__max_iter': [100, 200]\n",
    "}"
   ]
  },
  {
   "cell_type": "code",
   "execution_count": null,
   "id": "b30592ac",
   "metadata": {},
   "outputs": [],
   "source": [
    "# Initialize GridSearchCV\n",
    "gs_logr_tvec = GridSearchCV(pipe_logr_tvec, param_grid = logr_tvec_params, cv=5, verbose=1)"
   ]
  },
  {
   "cell_type": "code",
   "execution_count": null,
   "id": "13b3e6e1",
   "metadata": {},
   "outputs": [],
   "source": [
    "%%time\n",
    "\n",
    "# Fit model\n",
    "gs_logr_tvec.fit(X_train, y_train)"
   ]
  },
  {
   "cell_type": "code",
   "execution_count": null,
   "id": "8bb8f3a0",
   "metadata": {},
   "outputs": [],
   "source": [
    "print(gs_logr_tvec.best_score_)\n",
    "gs_logr_tvec.best_params_"
   ]
  },
  {
   "cell_type": "code",
   "execution_count": null,
   "id": "806779f8",
   "metadata": {},
   "outputs": [],
   "source": [
    "# Scoring against our train split\n",
    "logr_tvec_accuracy_tr = np.round(gs_logr_tvec.score(X_train, y_train), 4)\n",
    "logr_tvec_accuracy_tr"
   ]
  },
  {
   "cell_type": "code",
   "execution_count": null,
   "id": "e5410e8e",
   "metadata": {},
   "outputs": [],
   "source": [
    "# Scoring against our test split\n",
    "logr_tvec_accuracy = np.round(gs_logr_tvec.score(X_test, y_test), 4)\n",
    "logr_tvec_accuracy"
   ]
  },
  {
   "cell_type": "code",
   "execution_count": null,
   "id": "1ad1cc76",
   "metadata": {},
   "outputs": [],
   "source": [
    "# Obtain Precision score\n",
    "logr_tvec_precision = np.round(precision_score(y_test, gs_logr_tvec.predict(X_test)), 4)\n",
    "logr_tvec_precision"
   ]
  },
  {
   "cell_type": "code",
   "execution_count": null,
   "id": "cb856324",
   "metadata": {},
   "outputs": [],
   "source": [
    "# Obtain Recall score\n",
    "logr_tvec_recall = np.round(recall_score(y_test, gs_logr_tvec.predict(X_test)), 4)\n",
    "logr_tvec_recall"
   ]
  },
  {
   "cell_type": "code",
   "execution_count": null,
   "id": "95371066",
   "metadata": {},
   "outputs": [],
   "source": [
    "# Obtain F1 score\n",
    "logr_tvec_f1 = np.round(f1_score(y_test, gs_logr_tvec.predict(X_test)), 4)\n",
    "logr_tvec_f1"
   ]
  },
  {
   "cell_type": "code",
   "execution_count": null,
   "id": "a39d916c",
   "metadata": {
    "scrolled": true
   },
   "outputs": [],
   "source": [
    "# Let's plot our ROC curve\n",
    "plot_roc_curve(gs_logr_tvec, X_test, y_test)\n",
    "plt.plot([0, 1], [0, 1], label = 'Baseline', linestyle = '--')\n",
    "plt.legend()\n",
    "plt.show()"
   ]
  },
  {
   "cell_type": "code",
   "execution_count": null,
   "id": "3e7f66c9",
   "metadata": {},
   "outputs": [],
   "source": [
    "# Obtain area under the ROC curve\n",
    "logr_tvec_roc_auc_score = np.round(roc_auc_score(y_test, gs_logr_tvec.predict_proba(X_test)[:,1]), 4)\n",
    "logr_tvec_roc_auc_score"
   ]
  },
  {
   "cell_type": "markdown",
   "id": "6adfcdd3",
   "metadata": {},
   "source": [
    "## Multinomial Naive Bayes (NB)\n",
    "\n",
    "We appy Multinomial Naive Bayes here where our variables are positive integers (after running CountVect and Tfidf)"
   ]
  },
  {
   "cell_type": "markdown",
   "id": "f4994159",
   "metadata": {},
   "source": [
    "**Multinomial Naive Bayes with Count Vectorizer**"
   ]
  },
  {
   "cell_type": "code",
   "execution_count": 190,
   "id": "1b453112",
   "metadata": {},
   "outputs": [],
   "source": [
    "# Set-up pipeline for CVEC\n",
    "pipe_nb_cvec = Pipeline([\n",
    "    ('cvec', CountVectorizer()),\n",
    "    ('nb', MultinomialNB())\n",
    "])"
   ]
  },
  {
   "cell_type": "code",
   "execution_count": 191,
   "id": "6431ccf1",
   "metadata": {},
   "outputs": [],
   "source": [
    "# Obtain parameter keys\n",
    "#sorted(pipe_nb_cvec.get_params().keys())"
   ]
  },
  {
   "cell_type": "code",
   "execution_count": 192,
   "id": "b77bafdd",
   "metadata": {},
   "outputs": [],
   "source": [
    "# Set up parameters specific to CVEC\n",
    "nb_cvec_params = {\n",
    "    'cvec__stop_words': [custom_stopwords],\n",
    "    'cvec__max_features': [2000, 3000],\n",
    "    'cvec__min_df': [3, 4],\n",
    "    'cvec__max_df': [.9, .95],\n",
    "    'cvec__ngram_range': [(1,1), (1,2)],\n",
    "    'nb__alpha': [0.9, 1]\n",
    "}"
   ]
  },
  {
   "cell_type": "code",
   "execution_count": 193,
   "id": "9fd63cae",
   "metadata": {},
   "outputs": [],
   "source": [
    "# Initialize GridSearchCV\n",
    "gs_nb_cvec = GridSearchCV(pipe_nb_cvec, param_grid = nb_cvec_params, cv=5, verbose=1)"
   ]
  },
  {
   "cell_type": "code",
   "execution_count": 194,
   "id": "1b1af568",
   "metadata": {},
   "outputs": [
    {
     "name": "stdout",
     "output_type": "stream",
     "text": [
      "Fitting 5 folds for each of 32 candidates, totalling 160 fits\n",
      "Wall time: 30.6 s\n"
     ]
    },
    {
     "data": {
      "text/plain": [
       "GridSearchCV(cv=5,\n",
       "             estimator=Pipeline(steps=[('cvec', CountVectorizer()),\n",
       "                                       ('nb', MultinomialNB())]),\n",
       "             param_grid={'cvec__max_df': [0.9, 0.95],\n",
       "                         'cvec__max_features': [2000, 3000],\n",
       "                         'cvec__min_df': [3, 4],\n",
       "                         'cvec__ngram_range': [(1, 1), (1, 2)],\n",
       "                         'cvec__stop_words': [['english', 'yoga', 'meditation',\n",
       "                                               've', 'it', 'wa', 'like', 'ha',\n",
       "                                               'meditating', 'meditator',\n",
       "                                               'meditative', 'meditate', 'don',\n",
       "                                               'amp']],\n",
       "                         'nb__alpha': [0.9, 1]},\n",
       "             verbose=1)"
      ]
     },
     "execution_count": 194,
     "metadata": {},
     "output_type": "execute_result"
    }
   ],
   "source": [
    "%%time\n",
    "gs_nb_cvec.fit(X_train, y_train)"
   ]
  },
  {
   "cell_type": "code",
   "execution_count": 195,
   "id": "10f11d83",
   "metadata": {},
   "outputs": [
    {
     "name": "stdout",
     "output_type": "stream",
     "text": [
      "0.8844465030106532\n"
     ]
    },
    {
     "data": {
      "text/plain": [
       "{'cvec__max_df': 0.9,\n",
       " 'cvec__max_features': 3000,\n",
       " 'cvec__min_df': 3,\n",
       " 'cvec__ngram_range': (1, 1),\n",
       " 'cvec__stop_words': ['english',\n",
       "  'yoga',\n",
       "  'meditation',\n",
       "  've',\n",
       "  'it',\n",
       "  'wa',\n",
       "  'like',\n",
       "  'ha',\n",
       "  'meditating',\n",
       "  'meditator',\n",
       "  'meditative',\n",
       "  'meditate',\n",
       "  'don',\n",
       "  'amp'],\n",
       " 'nb__alpha': 0.9}"
      ]
     },
     "execution_count": 195,
     "metadata": {},
     "output_type": "execute_result"
    }
   ],
   "source": [
    "# Determining our best model score and parameters\n",
    "print(gs_nb_cvec.best_score_)\n",
    "gs_nb_cvec.best_params_"
   ]
  },
  {
   "cell_type": "code",
   "execution_count": 196,
   "id": "4b806fc5",
   "metadata": {
    "scrolled": true
   },
   "outputs": [
    {
     "data": {
      "text/plain": [
       "0.9324"
      ]
     },
     "execution_count": 196,
     "metadata": {},
     "output_type": "execute_result"
    }
   ],
   "source": [
    "# Scoring our train split\n",
    "nb_cvec_accuracy_tr = np.round(gs_nb_cvec.score(X_train, y_train), 4)\n",
    "nb_cvec_accuracy_tr"
   ]
  },
  {
   "cell_type": "code",
   "execution_count": 197,
   "id": "56f1df06",
   "metadata": {},
   "outputs": [
    {
     "data": {
      "text/plain": [
       "0.8986"
      ]
     },
     "execution_count": 197,
     "metadata": {},
     "output_type": "execute_result"
    }
   ],
   "source": [
    "# Scoring our test split\n",
    "nb_cvec_accuracy = np.round(gs_nb_cvec.score(X_test, y_test), 4)\n",
    "nb_cvec_accuracy"
   ]
  },
  {
   "cell_type": "code",
   "execution_count": 198,
   "id": "118f0c67",
   "metadata": {},
   "outputs": [
    {
     "data": {
      "text/plain": [
       "0.8757"
      ]
     },
     "execution_count": 198,
     "metadata": {},
     "output_type": "execute_result"
    }
   ],
   "source": [
    "# Obtain Precision score\n",
    "nb_cvec_precision = np.round(precision_score(y_test, gs_nb_cvec.predict(X_test)), 4)\n",
    "nb_cvec_precision"
   ]
  },
  {
   "cell_type": "code",
   "execution_count": 199,
   "id": "2b1f358f",
   "metadata": {},
   "outputs": [
    {
     "data": {
      "text/plain": [
       "0.8807"
      ]
     },
     "execution_count": 199,
     "metadata": {},
     "output_type": "execute_result"
    }
   ],
   "source": [
    "# Obtain Recall score\n",
    "nb_cvec_recall = np.round(recall_score(y_test, gs_nb_cvec.predict(X_test)), 4)\n",
    "nb_cvec_recall"
   ]
  },
  {
   "cell_type": "code",
   "execution_count": 200,
   "id": "3f5e3312",
   "metadata": {},
   "outputs": [
    {
     "data": {
      "text/plain": [
       "0.8782"
      ]
     },
     "execution_count": 200,
     "metadata": {},
     "output_type": "execute_result"
    }
   ],
   "source": [
    "# Obtain F1 score\n",
    "nb_cvec_f1 = np.round(f1_score(y_test, gs_nb_cvec.predict(X_test)), 4)\n",
    "nb_cvec_f1"
   ]
  },
  {
   "cell_type": "code",
   "execution_count": 201,
   "id": "2a0586df",
   "metadata": {
    "scrolled": false
   },
   "outputs": [
    {
     "data": {
      "image/png": "[encoded data removed]",
      "text/plain": [
       "<Figure size 432x288 with 1 Axes>"
      ]
     },
     "metadata": {
      "needs_background": "light"
     },
     "output_type": "display_data"
    }
   ],
   "source": [
    "# Let's plot our ROC curve\n",
    "plot_roc_curve(gs_nb_cvec, X_test, y_test)\n",
    "plt.plot([0, 1], [0, 1], label = 'Baseline', linestyle = '--')\n",
    "plt.legend()\n",
    "plt.show()"
   ]
  },
  {
   "cell_type": "code",
   "execution_count": 202,
   "id": "b5f73bab",
   "metadata": {},
   "outputs": [
    {
     "data": {
      "text/plain": [
       "0.953"
      ]
     },
     "execution_count": 202,
     "metadata": {},
     "output_type": "execute_result"
    }
   ],
   "source": [
    "# Obtain area under the ROC curve\n",
    "nb_cvec_roc_auc_score = np.round(roc_auc_score(y_test, gs_nb_cvec.predict_proba(X_test)[:,1]), 4)\n",
    "nb_cvec_roc_auc_score"
   ]
  },
  {
   "cell_type": "markdown",
   "id": "bd5ec112",
   "metadata": {},
   "source": [
    "**Multinomial Naive Bayes with TfidfVectorizer**"
   ]
  },
  {
   "cell_type": "code",
   "execution_count": null,
   "id": "fb4b4336",
   "metadata": {},
   "outputs": [],
   "source": [
    "# Set-up pipeline for tf-idf vectorizer\n",
    "pipe_nb_tvec = Pipeline([\n",
    "    ('tvec', TfidfVectorizer()),\n",
    "    ('nb', MultinomialNB())\n",
    "])"
   ]
  },
  {
   "cell_type": "code",
   "execution_count": null,
   "id": "7e75b6cf",
   "metadata": {},
   "outputs": [],
   "source": [
    "nb_tvec_params = {\n",
    "    'tvec__max_features': [2_000, 3_000, 4_000, 5_000],\n",
    "    'tvec__stop_words': [custom_stopwords],\n",
    "    'tvec__ngram_range': [(1,1), (1,2)],\n",
    "    'nb__alpha': [0.9, 1]\n",
    "}"
   ]
  },
  {
   "cell_type": "code",
   "execution_count": null,
   "id": "ecce56f6",
   "metadata": {},
   "outputs": [],
   "source": [
    "# Instantiate GridSearchCV.\n",
    "gs_nb_tvec = GridSearchCV(pipe_nb_tvec, param_grid = nb_tvec_params, cv=5, verbose=1)"
   ]
  },
  {
   "cell_type": "code",
   "execution_count": null,
   "id": "872192f2",
   "metadata": {},
   "outputs": [],
   "source": [
    "%%time\n",
    "\n",
    "# Fit our model\n",
    "gs_nb_tvec.fit(X_train, y_train)"
   ]
  },
  {
   "cell_type": "code",
   "execution_count": null,
   "id": "e20c5609",
   "metadata": {},
   "outputs": [],
   "source": [
    "# Find out our best score and parameters\n",
    "print(gs_nb_tvec.best_score_)\n",
    "gs_nb_tvec.best_params_"
   ]
  },
  {
   "cell_type": "code",
   "execution_count": null,
   "id": "66eb6f28",
   "metadata": {},
   "outputs": [],
   "source": [
    "# Score model on our train split\n",
    "nb_tvec_accuracy_tr = np.round(gs_nb_tvec.score(X_train, y_train), 4)\n",
    "nb_tvec_accuracy_tr"
   ]
  },
  {
   "cell_type": "code",
   "execution_count": null,
   "id": "0a55dada",
   "metadata": {},
   "outputs": [],
   "source": [
    "# Score model on test split\n",
    "nb_tvec_accuracy = np.round(gs_nb_tvec.score(X_test, y_test), 4)\n",
    "nb_tvec_accuracy"
   ]
  },
  {
   "cell_type": "code",
   "execution_count": null,
   "id": "83b44b9d",
   "metadata": {},
   "outputs": [],
   "source": [
    "# Obtain Precision score\n",
    "nb_tvec_precision = np.round(precision_score(y_test, gs_nb_tvec.predict(X_test)), 4)\n",
    "nb_tvec_precision"
   ]
  },
  {
   "cell_type": "code",
   "execution_count": null,
   "id": "e5495375",
   "metadata": {},
   "outputs": [],
   "source": [
    "# Obtain Recall score\n",
    "nb_tvec_recall = np.round(recall_score(y_test, gs_nb_tvec.predict(X_test)), 4)\n",
    "nb_tvec_recall"
   ]
  },
  {
   "cell_type": "code",
   "execution_count": null,
   "id": "05d0c1d2",
   "metadata": {},
   "outputs": [],
   "source": [
    "# Obtain F1 score\n",
    "nb_tvec_f1 = np.round(f1_score(y_test, gs_nb_tvec.predict(X_test)), 4)\n",
    "nb_tvec_f1"
   ]
  },
  {
   "cell_type": "code",
   "execution_count": null,
   "id": "ebc1a5ad",
   "metadata": {},
   "outputs": [],
   "source": [
    "# Let's plot our ROC curve\n",
    "plot_roc_curve(gs_nb_tvec, X_test, y_test)\n",
    "plt.plot([0, 1], [0, 1], label = 'Baseline', linestyle = '--')\n",
    "plt.legend()\n",
    "plt.show()"
   ]
  },
  {
   "cell_type": "code",
   "execution_count": null,
   "id": "1cf4a7fc",
   "metadata": {},
   "outputs": [],
   "source": [
    "# Obtain area under the ROC curve\n",
    "nb_tvec_roc_auc_score = np.round(roc_auc_score(y_test, gs_nb_tvec.predict_proba(X_test)[:,1]), 4)\n",
    "nb_tvec_roc_auc_score"
   ]
  },
  {
   "cell_type": "markdown",
   "id": "36e1bb91",
   "metadata": {},
   "source": [
    "## Random Forest"
   ]
  },
  {
   "cell_type": "markdown",
   "id": "b168ad97",
   "metadata": {},
   "source": [
    "**Random Forest with Count Vectorizer**"
   ]
  },
  {
   "cell_type": "code",
   "execution_count": null,
   "id": "d5926826",
   "metadata": {},
   "outputs": [],
   "source": [
    "# Set-up pipeline for tf-idf vectorizer + Random forest\n",
    "pipe_rfc_cvec = Pipeline([\n",
    "    ('cvec', CountVectorizer()),\n",
    "    ('rfc', RandomForestClassifier())\n",
    "])"
   ]
  },
  {
   "cell_type": "code",
   "execution_count": null,
   "id": "408382e2",
   "metadata": {},
   "outputs": [],
   "source": [
    "rfc_cvec_params = {\n",
    "    'rfc__n_estimators': [100, 150, 200],\n",
    "    'rfc__max_depth': [None, 1, 2, 3],\n",
    "    'cvec__stop_words': [custom_stopwords],\n",
    "    'cvec__max_features': [2000, 3000],\n",
    "    'cvec__min_df': [2, 3],\n",
    "    'cvec__max_df': [.9, .95],\n",
    "    'cvec__ngram_range': [(1,2)],\n",
    "}"
   ]
  },
  {
   "cell_type": "code",
   "execution_count": null,
   "id": "02a042a3",
   "metadata": {},
   "outputs": [],
   "source": [
    "# Instantiate GridSearchCV.\n",
    "gs_rfc_cvec = GridSearchCV(pipe_rfc_cvec, param_grid = rfc_cvec_params, cv=5, verbose=1)"
   ]
  },
  {
   "cell_type": "code",
   "execution_count": null,
   "id": "0c7fa748",
   "metadata": {},
   "outputs": [],
   "source": [
    "%%time\n",
    "\n",
    "# Fit our model\n",
    "gs_rfc_cvec.fit(X_train, y_train)"
   ]
  },
  {
   "cell_type": "code",
   "execution_count": null,
   "id": "718bf173",
   "metadata": {},
   "outputs": [],
   "source": [
    "# Find out our best model and parameters\n",
    "print(gs_rfc_cvec.best_score_)\n",
    "gs_rfc_cvec.best_params_"
   ]
  },
  {
   "cell_type": "code",
   "execution_count": null,
   "id": "781a8e97",
   "metadata": {},
   "outputs": [],
   "source": [
    "# Scoring our train split\n",
    "rfc_cvec_accuracy_tr = np.round(gs_rfc_cvec.score(X_train, y_train), 4)\n",
    "rfc_cvec_accuracy_tr"
   ]
  },
  {
   "cell_type": "code",
   "execution_count": null,
   "id": "f3af5a2c",
   "metadata": {},
   "outputs": [],
   "source": [
    "# Scoring our test split\n",
    "rfc_cvec_accuracy = np.round(gs_rfc_cvec.score(X_test, y_test), 4)\n",
    "rfc_cvec_accuracy"
   ]
  },
  {
   "cell_type": "code",
   "execution_count": null,
   "id": "0b6912a5",
   "metadata": {},
   "outputs": [],
   "source": [
    "# Obtain Precision score\n",
    "rfc_cvec_precision = np.round(precision_score(y_test, gs_rfc_cvec.predict(X_test)), 4)\n",
    "rfc_cvec_precision"
   ]
  },
  {
   "cell_type": "code",
   "execution_count": null,
   "id": "2d8cbb20",
   "metadata": {},
   "outputs": [],
   "source": [
    "# Obtain Recall score\n",
    "rfc_cvec_recall = np.round(recall_score(y_test, gs_rfc_cvec.predict(X_test)), 4)\n",
    "rfc_cvec_recall"
   ]
  },
  {
   "cell_type": "code",
   "execution_count": null,
   "id": "36ffb365",
   "metadata": {},
   "outputs": [],
   "source": [
    "# Obtain F1 score\n",
    "rfc_cvec_f1 = np.round(f1_score(y_test, gs_rfc_cvec.predict(X_test)), 4)\n",
    "rfc_cvec_f1"
   ]
  },
  {
   "cell_type": "code",
   "execution_count": null,
   "id": "10f8d99d",
   "metadata": {},
   "outputs": [],
   "source": [
    "# Let's plot our ROC curve\n",
    "plot_roc_curve(gs_rfc_cvec, X_test, y_test)\n",
    "plt.plot([0, 1], [0, 1], label = 'Baseline', linestyle = '--')\n",
    "plt.legend()\n",
    "plt.show()"
   ]
  },
  {
   "cell_type": "code",
   "execution_count": null,
   "id": "b820e2e4",
   "metadata": {},
   "outputs": [],
   "source": [
    "# Obtain area under the ROC curve\n",
    "rfc_cvec_roc_auc_score = np.round(roc_auc_score(y_test, gs_rfc_cvec.predict_proba(X_test)[:,1]), 4)\n",
    "rfc_cvec_roc_auc_score"
   ]
  },
  {
   "cell_type": "markdown",
   "id": "af5df098",
   "metadata": {},
   "source": [
    "**Random Forest with TidfVectorizer**"
   ]
  },
  {
   "cell_type": "code",
   "execution_count": null,
   "id": "c70358ee",
   "metadata": {},
   "outputs": [],
   "source": [
    "# Set-up pipeline for tf-idf vectorizer + Random forest\n",
    "pipe_rfc_tvec = Pipeline([\n",
    "    ('tvec', TfidfVectorizer()),\n",
    "    ('rfc', RandomForestClassifier())\n",
    "])"
   ]
  },
  {
   "cell_type": "code",
   "execution_count": null,
   "id": "b5a68c0f",
   "metadata": {},
   "outputs": [],
   "source": [
    "rfc_tvec_params = {\n",
    "    'rfc__n_estimators': [100, 150, 200],\n",
    "    'rfc__max_depth': [None, 1, 2, 3],\n",
    "    'tvec__max_features': [2_000, 4_000],\n",
    "    'tvec__stop_words': [custom_stopwords],\n",
    "    'tvec__ngram_range': [(1,2)]\n",
    "}"
   ]
  },
  {
   "cell_type": "code",
   "execution_count": null,
   "id": "6ff09333",
   "metadata": {},
   "outputs": [],
   "source": [
    "# Instantiate GridSearchCV.\n",
    "gs_rfc_tvec = GridSearchCV(pipe_rfc_tvec, param_grid = rfc_tvec_params, cv=5, verbose=1)"
   ]
  },
  {
   "cell_type": "code",
   "execution_count": null,
   "id": "529b235d",
   "metadata": {},
   "outputs": [],
   "source": [
    "%%time\n",
    "gs_rfc_tvec.fit(X_train, y_train)"
   ]
  },
  {
   "cell_type": "code",
   "execution_count": null,
   "id": "e509bfd6",
   "metadata": {},
   "outputs": [],
   "source": [
    "# Find out our best model and parameters\n",
    "print(gs_rfc_tvec.best_score_)\n",
    "gs_rfc_tvec.best_params_"
   ]
  },
  {
   "cell_type": "code",
   "execution_count": null,
   "id": "ec7cd2f3",
   "metadata": {},
   "outputs": [],
   "source": [
    "# Scoring our train split\n",
    "rfc_tvec_accuracy_tr = np.round(gs_rfc_tvec.score(X_train, y_train), 4)\n",
    "rfc_tvec_accuracy_tr"
   ]
  },
  {
   "cell_type": "code",
   "execution_count": null,
   "id": "9c306651",
   "metadata": {},
   "outputs": [],
   "source": [
    "# Scoring our test split (Accuracy)\n",
    "rfc_tvec_accuracy = np.round(gs_rfc_tvec.score(X_test, y_test), 4)\n",
    "rfc_tvec_accuracy"
   ]
  },
  {
   "cell_type": "code",
   "execution_count": null,
   "id": "5f2d2209",
   "metadata": {},
   "outputs": [],
   "source": [
    "# Scoring our test split (Precision)\n",
    "rfc_tvec_precision = np.round(precision_score(y_test, gs_rfc_tvec.predict(X_test)), 4)\n",
    "rfc_tvec_precision"
   ]
  },
  {
   "cell_type": "code",
   "execution_count": null,
   "id": "6f56d28d",
   "metadata": {},
   "outputs": [],
   "source": [
    "# Scoring our test split (Recall)\n",
    "rfc_tvec_recall = np.round(recall_score(y_test, gs_rfc_tvec.predict(X_test)), 4)\n",
    "rfc_tvec_recall"
   ]
  },
  {
   "cell_type": "code",
   "execution_count": null,
   "id": "8b4adb4e",
   "metadata": {},
   "outputs": [],
   "source": [
    "# Scoring our test split (Recall)\n",
    "rfc_tvec_f1 = np.round(f1_score(y_test, gs_rfc_tvec.predict(X_test)), 4)\n",
    "rfc_tvec_f1"
   ]
  },
  {
   "cell_type": "code",
   "execution_count": null,
   "id": "ca872b08",
   "metadata": {},
   "outputs": [],
   "source": [
    "# Let's plot our ROC curve\n",
    "plot_roc_curve(gs_rfc_tvec, X_test, y_test)\n",
    "plt.plot([0, 1], [0, 1], label = 'Baseline', linestyle = '--')\n",
    "plt.legend()\n",
    "plt.show()"
   ]
  },
  {
   "cell_type": "code",
   "execution_count": null,
   "id": "89657e11",
   "metadata": {},
   "outputs": [],
   "source": [
    "# Obtain area under ROC\n",
    "rfc_tvec_roc_auc_score = np.round(roc_auc_score(y_test, gs_rfc_tvec.predict_proba(X_test)[:,1]), 4)\n",
    "rfc_tvec_roc_auc_score"
   ]
  },
  {
   "cell_type": "markdown",
   "id": "4ccda86a",
   "metadata": {},
   "source": [
    "# Model Evaluation"
   ]
  },
  {
   "cell_type": "code",
   "execution_count": null,
   "id": "d4f46d9f",
   "metadata": {},
   "outputs": [],
   "source": [
    "from prettytable import PrettyTable"
   ]
  },
  {
   "cell_type": "code",
   "execution_count": null,
   "id": "1140421d",
   "metadata": {},
   "outputs": [],
   "source": [
    "# Creation of our pretty table\n",
    "t = PrettyTable(['Model', 'Vectorizer', 'Accuracy (Train)', 'Accuracy (Test)', \n",
    "                 'Precision (Test)', 'Recall (Test)', 'F1 Score', 'ROC AUC'])\n",
    "\n",
    "t.add_row(['Logistic Regression', 'CountVect', logr_cvec_accuracy_tr, logr_cvec_accuracy,\n",
    "          logr_cvec_precision, logr_cvec_recall, logr_cvec_f1, logr_cvec_roc_auc_score])\n",
    "\n",
    "t.add_row(['Logistic Regression', 'TFIDF', logr_tvec_accuracy_tr, logr_tvec_accuracy,\n",
    "          logr_tvec_precision, logr_tvec_recall, logr_tvec_f1, logr_tvec_roc_auc_score])\n",
    "\n",
    "t.add_row(['Naive Bayes', 'CountVect', nb_cvec_accuracy_tr, nb_cvec_accuracy,\n",
    "          nb_cvec_precision, nb_cvec_recall, nb_cvec_f1, nb_cvec_roc_auc_score])\n",
    "\n",
    "t.add_row(['Naive Bayes', 'TFIDF', nb_tvec_accuracy_tr, nb_tvec_accuracy,\n",
    "          nb_tvec_precision, nb_tvec_recall, nb_tvec_f1, nb_tvec_roc_auc_score])\n",
    "\n",
    "t.add_row(['Random Forest', 'CountVect', rfc_cvec_accuracy_tr, rfc_cvec_accuracy,\n",
    "          rfc_cvec_precision, rfc_cvec_recall, rfc_cvec_f1, rfc_cvec_roc_auc_score])\n",
    "\n",
    "t.add_row(['Random Forest', 'TFIDF', rfc_tvec_accuracy_tr, rfc_tvec_accuracy,\n",
    "          rfc_tvec_precision, rfc_tvec_recall, rfc_tvec_f1, rfc_tvec_roc_auc_score])"
   ]
  },
  {
   "cell_type": "code",
   "execution_count": null,
   "id": "5a0f7021",
   "metadata": {},
   "outputs": [],
   "source": [
    "# See snapshot of our model(s) below\n",
    "t"
   ]
  },
  {
   "cell_type": "markdown",
   "id": "4883bda1",
   "metadata": {},
   "source": [
    "# Conclusion"
   ]
  },
  {
   "cell_type": "markdown",
   "id": "17d83fde",
   "metadata": {},
   "source": [
    "Our best model appears to be a Naive Bayes + Count Vectorizer mix. We are optimising for our F1 score."
   ]
  },
  {
   "cell_type": "code",
   "execution_count": 203,
   "id": "67412f6a",
   "metadata": {},
   "outputs": [],
   "source": [
    "# Converting our model outputs into a dataframe for easier charting\n",
    "nb_cvec_feat = pd.concat([pd.DataFrame(gs_nb_cvec.best_estimator_.named_steps['cvec'].get_feature_names()), \n",
    "                          pd.DataFrame(np.exp(gs_nb_cvec.best_estimator_.named_steps['nb'].feature_log_prob_[0])),\n",
    "                          pd.DataFrame(np.exp(gs_nb_cvec.best_estimator_.named_steps['nb'].feature_log_prob_[1]))], axis=1)"
   ]
  },
  {
   "cell_type": "code",
   "execution_count": 204,
   "id": "c11f5d86",
   "metadata": {},
   "outputs": [
    {
     "data": {
      "text/plain": [
       "Pipeline(steps=[('cvec',\n",
       "                 CountVectorizer(max_df=0.9, max_features=3000, min_df=3,\n",
       "                                 stop_words=['english', 'yoga', 'meditation',\n",
       "                                             've', 'it', 'wa', 'like', 'ha',\n",
       "                                             'meditating', 'meditator',\n",
       "                                             'meditative', 'meditate', 'don',\n",
       "                                             'amp'])),\n",
       "                ('nb', MultinomialNB(alpha=0.9))])"
      ]
     },
     "execution_count": 204,
     "metadata": {},
     "output_type": "execute_result"
    }
   ],
   "source": [
    "# Finding our best estimators\n",
    "gs_nb_cvec.best_estimator_"
   ]
  },
  {
   "cell_type": "code",
   "execution_count": 205,
   "id": "b379a031",
   "metadata": {},
   "outputs": [],
   "source": [
    "# Let's create a dataframe of our features with their respective probabilities of belonging to r/mediation and r/yoga subreddits\n",
    "nb_cvec_feat.columns = ['feature', 'prob_meditation', 'prob_yoga']"
   ]
  },
  {
   "cell_type": "code",
   "execution_count": 206,
   "id": "e8eaf7c5",
   "metadata": {},
   "outputs": [
    {
     "data": {
      "text/html": [
       "<div>\n",
       "<style scoped>\n",
       "    .dataframe tbody tr th:only-of-type {\n",
       "        vertical-align: middle;\n",
       "    }\n",
       "\n",
       "    .dataframe tbody tr th {\n",
       "        vertical-align: top;\n",
       "    }\n",
       "\n",
       "    .dataframe thead th {\n",
       "        text-align: right;\n",
       "    }\n",
       "</style>\n",
       "<table border=\"1\" class=\"dataframe\">\n",
       "  <thead>\n",
       "    <tr style=\"text-align: right;\">\n",
       "      <th></th>\n",
       "      <th>feature</th>\n",
       "      <th>prob_meditation</th>\n",
       "      <th>prob_yoga</th>\n",
       "    </tr>\n",
       "  </thead>\n",
       "  <tbody>\n",
       "    <tr>\n",
       "      <th>0</th>\n",
       "      <td>00</td>\n",
       "      <td>0.000207</td>\n",
       "      <td>0.000080</td>\n",
       "    </tr>\n",
       "    <tr>\n",
       "      <th>1</th>\n",
       "      <td>000</td>\n",
       "      <td>0.000181</td>\n",
       "      <td>0.000038</td>\n",
       "    </tr>\n",
       "    <tr>\n",
       "      <th>2</th>\n",
       "      <td>10</td>\n",
       "      <td>0.001283</td>\n",
       "      <td>0.001002</td>\n",
       "    </tr>\n",
       "    <tr>\n",
       "      <th>3</th>\n",
       "      <td>100</td>\n",
       "      <td>0.000417</td>\n",
       "      <td>0.000205</td>\n",
       "    </tr>\n",
       "    <tr>\n",
       "      <th>4</th>\n",
       "      <td>1000</td>\n",
       "      <td>0.000076</td>\n",
       "      <td>0.000080</td>\n",
       "    </tr>\n",
       "  </tbody>\n",
       "</table>\n",
       "</div>"
      ],
      "text/plain": [
       "  feature  prob_meditation  prob_yoga\n",
       "0      00         0.000207   0.000080\n",
       "1     000         0.000181   0.000038\n",
       "2      10         0.001283   0.001002\n",
       "3     100         0.000417   0.000205\n",
       "4    1000         0.000076   0.000080"
      ]
     },
     "execution_count": 206,
     "metadata": {},
     "output_type": "execute_result"
    }
   ],
   "source": [
    "nb_cvec_feat.head()"
   ]
  },
  {
   "cell_type": "code",
   "execution_count": 214,
   "id": "ac7c4b79",
   "metadata": {},
   "outputs": [],
   "source": [
    "top_words_meditation = nb_cvec_feat.sort_values(by=['prob_meditation'], ascending=False).head(100)\n",
    "top_words_yoga = nb_cvec_feat.sort_values(by=['prob_yoga'], ascending=False)[['feature', 'prob_yoga']].head(100)"
   ]
  },
  {
   "cell_type": "code",
   "execution_count": 312,
   "id": "a6112950",
   "metadata": {},
   "outputs": [
    {
     "data": {
      "image/png": "[encoded data removed]",
      "text/plain": [
       "<Figure size 1080x360 with 2 Axes>"
      ]
     },
     "metadata": {},
     "output_type": "display_data"
    }
   ],
   "source": [
    "# Let's chart the top 10 words that offer the highest probabilities of a particular post belonging to r/yoga\n",
    "sns.set_style(style=\"darkgrid\")\n",
    "fig, axs = plt.subplots(1, 2)\n",
    "fig.set_size_inches(15, 5)\n",
    "\n",
    "g1 = sns.pointplot(data=top_words_yoga.head(20), ax=axs[0],\n",
    "            y='feature', x='prob_yoga', palette='dark:lightblue_r')\n",
    "\n",
    "g2 = sns.pointplot(data=top_words_meditation.head(20), ax=axs[1],\n",
    "            y='feature', x='prob_meditation', palette='dark:orange_r')\n",
    "\n",
    "g1.set_ylabel(\"Word\")\n",
    "g2.set_ylabel(\"\")\n",
    "g1.set_xlabel(\"Probability (r/yoga)\")\n",
    "g2.set_xlabel(\"Probability (r/meditation)\")\n",
    "plt.show()"
   ]
  },
  {
   "cell_type": "code",
   "execution_count": 217,
   "id": "dac74e9d",
   "metadata": {},
   "outputs": [],
   "source": [
    "unique_list_yoga = []\n",
    "unique_list_yoga_probs = []\n",
    "for word, prob in top_words_yoga[['feature', 'prob_yoga']].values:\n",
    "    if word not in top_words_meditation['feature'].values:\n",
    "        unique_list_yoga.append(word)\n",
    "        unique_list_yoga_probs.append(prob)"
   ]
  },
  {
   "cell_type": "code",
   "execution_count": 235,
   "id": "4f3af929",
   "metadata": {},
   "outputs": [],
   "source": [
    "# Creation of unique yoga predictors\n",
    "top_unique_words_yoga = pd.DataFrame()\n",
    "top_unique_words_yoga['feature'] = unique_list_yoga\n",
    "top_unique_words_yoga['prob'] = unique_list_yoga_probs\n",
    "top_unique_words_yoga['class'] = 'yoga'"
   ]
  },
  {
   "cell_type": "code",
   "execution_count": 238,
   "id": "cc7d0bbc",
   "metadata": {},
   "outputs": [],
   "source": [
    "overlap_list = []\n",
    "overlap_list_probs = []\n",
    "for word, prob in top_words_yoga[['feature', 'prob_yoga']].values:\n",
    "    if word in top_words_meditation['feature'].values:\n",
    "        overlap_list.append(word)\n",
    "        overlap_list_probs.append(prob)"
   ]
  },
  {
   "cell_type": "code",
   "execution_count": 239,
   "id": "077956c6",
   "metadata": {},
   "outputs": [],
   "source": [
    "# Creation of unique yoga predictors\n",
    "top_overlap_words = pd.DataFrame()\n",
    "top_overlap_words['feature'] = overlap_list\n",
    "top_overlap_words['prob'] = overlap_list_probs\n",
    "top_overlap_words['class'] = 'overlap'"
   ]
  },
  {
   "cell_type": "code",
   "execution_count": 241,
   "id": "b9f7f742",
   "metadata": {},
   "outputs": [],
   "source": [
    "unique_list_medit = []\n",
    "unique_list_medit_probs = []\n",
    "for word, prob in top_words_meditation[['feature', 'prob_meditation']].values:\n",
    "    if word not in top_words_yoga['feature'].values:\n",
    "        unique_list_medit.append(word)\n",
    "        unique_list_medit_probs.append(prob)"
   ]
  },
  {
   "cell_type": "code",
   "execution_count": 242,
   "id": "0d07dd9b",
   "metadata": {},
   "outputs": [],
   "source": [
    "# Creation of unique meditation predictors\n",
    "top_unique_words_medit = pd.DataFrame()\n",
    "top_unique_words_medit['feature'] = unique_list_medit\n",
    "top_unique_words_medit['prob'] = unique_list_medit_probs\n",
    "top_unique_words_medit['class'] = 'meditation'"
   ]
  },
  {
   "cell_type": "code",
   "execution_count": 249,
   "id": "97cbe2ee",
   "metadata": {},
   "outputs": [],
   "source": [
    "combined_predictors = pd.concat([top_unique_words_yoga.head(10), \n",
    "                                 top_unique_words_medit.head(10), \n",
    "                                 top_overlap_words.head(10)], axis=0)\n",
    "\n",
    "combined_predictors.sort_values(by='prob', inplace=True)"
   ]
  },
  {
   "cell_type": "code",
   "execution_count": 324,
   "id": "2ef06a39",
   "metadata": {},
   "outputs": [
    {
     "data": {
      "image/png": "[encoded data removed]",
      "text/plain": [
       "<Figure size 730.625x432 with 1 Axes>"
      ]
     },
     "metadata": {},
     "output_type": "display_data"
    }
   ],
   "source": [
    "# Let's chart the top 10 words that offer the highest probabilities of a particular post belonging to r/yoga\n",
    "sns.catplot(data=combined_predictors, y='feature', x='prob', kind='bar', \n",
    "            hue='class', dodge=False, palette=['lightblue', 'darkorange', 'grey'], aspect=1.5, height=6)\n",
    "plt.title(\"Top predictors for our classification model (Top 100)\", size=15)\n",
    "plt.ylabel('Word')\n",
    "plt.xlabel('Probability of being classified as r/yoga (Yoga, Overlap) or r/meditation')\n",
    "plt.show()"
   ]
  }
 ],
 "metadata": {
  "kernelspec": {
   "display_name": "Python 3",
   "language": "python",
   "name": "python3"
  },
  "language_info": {
   "codemirror_mode": {
    "name": "ipython",
    "version": 3
   },
   "file_extension": ".py",
   "mimetype": "text/x-python",
   "name": "python",
   "nbconvert_exporter": "python",
   "pygments_lexer": "ipython3",
   "version": "3.8.8"
  }
 },
 "nbformat": 4,
 "nbformat_minor": 5
}
