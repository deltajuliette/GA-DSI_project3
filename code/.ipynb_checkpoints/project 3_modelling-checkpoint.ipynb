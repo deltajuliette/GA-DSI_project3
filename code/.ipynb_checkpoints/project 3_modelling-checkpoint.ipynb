{
 "cells": [
  {
   "cell_type": "markdown",
   "id": "6c451e7c",
   "metadata": {},
   "source": [
    "# Reiterating our Problem Statement\n",
    "\n",
    "**Context**: The COVID-19 pandemic has taken a toll on most people and it has resulted in a huge increase in mental health awareness.\n",
    "\n",
    "**Problem Statement**: We are a group of data scientists representing a yoga studio. We note that there are notable differences between yoga (Physical and mental exercise) and mediation (Pursuit of mental stability). Given the increased awareness of the importance of mental health, we see an opportunity to increase and broaden our customer base. Hence, there is a need to tailor our marketing campaigns to promote yoga as a coping strategy / self-care tool. We would also like to maximise the effectiveness of our campaigns (Maximising true positives).\n",
    "\n",
    "Our approach is detailed below:\n",
    "* Grouping posts from reddit r\\yoga and r\\Meditation (which are similar in nature)\n",
    "* Discover 'trending* words for both subreddits\n",
    "* Exploring the similarities, but also focusing on exploiting differences between both subgroups\n",
    "* Build an effective *classification* model to better target yoga enthusiasts (aka. r/yoga users; Maximise marketing spend)\n",
    "* We can also exploit similarities between both subgroups to convert people interested in meditation to try out yoga"
   ]
  },
  {
   "cell_type": "markdown",
   "id": "1b154801",
   "metadata": {},
   "source": [
    "# Pre-processing and Modelling\n",
    "\n",
    "Our approach is summarised below:\n",
    "* Splitting / sampling data for validation and training purposes (Ensuring samples are stratified)\n",
    "* Convert text data to a matrix\n",
    "* We will test / evaluate a variety of models to identify a production algorithm with CountVectorizer or TFIDFVectorizer overlays\n",
    "    * Logistic Regression\n",
    "    * Naive Bayes\n",
    "    * Random Forests\n",
    "* Explaining how our chosen models work and highlight a particular model's pros/cons\n",
    "* Comparing models to the baseline score and explain the evaluation metrics we have chosen to focus on\n",
    "* Diving deeper into our final recommendations and addressing our original problem statement\n",
    "\n",
    "We will build our models using a pipeline and utilise GridSearchCV to determine the best parameters. We will also be logging the total time needed to iterate our models"
   ]
  },
  {
   "cell_type": "code",
   "execution_count": 1,
   "id": "eb03fac9",
   "metadata": {},
   "outputs": [],
   "source": [
    "# Import necessary libraries\n",
    "import requests\n",
    "import pandas as pd\n",
    "import numpy as np\n",
    "from datetime import datetime\n",
    "import matplotlib.pyplot as plt\n",
    "import seaborn as sns\n",
    "import redditcleaner\n",
    "import gensim\n",
    "\n",
    "from nltk.tokenize import sent_tokenize, word_tokenize, RegexpTokenizer\n",
    "from nltk.stem import WordNetLemmatizer\n",
    "from nltk.stem.porter import PorterStemmer\n",
    "from nltk.corpus import stopwords\n",
    "from nltk.sentiment.vader import SentimentIntensityAnalyzer\n",
    "import re\n",
    "\n",
    "from sklearn.feature_extraction.text import CountVectorizer, TfidfVectorizer\n",
    "from sklearn.metrics import accuracy_score, precision_score, recall_score, f1_score, confusion_matrix, plot_confusion_matrix, classification_report, roc_auc_score, plot_roc_curve\n",
    "from sklearn.linear_model import LogisticRegression\n",
    "from sklearn.model_selection import train_test_split, GridSearchCV\n",
    "from sklearn.pipeline import Pipeline\n",
    "from sklearn.neighbors import KNeighborsClassifier\n",
    "from sklearn.naive_bayes import MultinomialNB\n",
    "from sklearn.metrics import confusion_matrix, plot_confusion_matrix, ConfusionMatrixDisplay\n",
    "from sklearn.ensemble import RandomForestClassifier, RandomForestRegressor, ExtraTreesClassifier, GradientBoostingClassifier, AdaBoostClassifier, VotingClassifier, BaggingClassifier\n",
    "\n",
    "import warnings\n",
    "warnings.filterwarnings('ignore') # Ensuring the notebook remains tidy"
   ]
  },
  {
   "cell_type": "code",
   "execution_count": 2,
   "id": "0845d0cc",
   "metadata": {},
   "outputs": [],
   "source": [
    "# Read cleaned messages from our previous module\n",
    "messages = pd.read_csv('../data/cleaned_messages.csv', na_values='str', index_col=[0])"
   ]
  },
  {
   "cell_type": "code",
   "execution_count": 3,
   "id": "56b9272f",
   "metadata": {},
   "outputs": [
    {
     "name": "stdout",
     "output_type": "stream",
     "text": [
      "<class 'pandas.core.frame.DataFrame'>\n",
      "Int64Index: 1696 entries, 3 to 2997\n",
      "Data columns (total 4 columns):\n",
      " #   Column           Non-Null Count  Dtype \n",
      "---  ------           --------------  ----- \n",
      " 0   subreddit        1696 non-null   int64 \n",
      " 1   combined         1696 non-null   object\n",
      " 2   selftext_lem     1696 non-null   object\n",
      " 3   selftext_gensim  1696 non-null   object\n",
      "dtypes: int64(1), object(3)\n",
      "memory usage: 66.2+ KB\n"
     ]
    }
   ],
   "source": [
    "# We will need to drop any missing rows (just as a precaution)\n",
    "messages = messages.dropna()\n",
    "\n",
    "# Let's take a quick look at our dataset; Recall: We started out with 2 sets of 1500x posts from both subreddits\n",
    "messages.info()"
   ]
  },
  {
   "cell_type": "code",
   "execution_count": 4,
   "id": "d2610d23",
   "metadata": {},
   "outputs": [],
   "source": [
    "# Defining our variables\n",
    "X = messages['selftext_gensim'] # Text has been lemmatized and cleaned\n",
    "y = messages['subreddit']"
   ]
  },
  {
   "cell_type": "code",
   "execution_count": 5,
   "id": "39c017ba",
   "metadata": {},
   "outputs": [
    {
     "data": {
      "text/plain": [
       "0    0.584316\n",
       "1    0.415684\n",
       "Name: subreddit, dtype: float64"
      ]
     },
     "execution_count": 5,
     "metadata": {},
     "output_type": "execute_result"
    }
   ],
   "source": [
    "# Do we need to stratify our train/test splits?\n",
    "y.value_counts(normalize = True)"
   ]
  },
  {
   "cell_type": "code",
   "execution_count": 6,
   "id": "f30b460d",
   "metadata": {},
   "outputs": [],
   "source": [
    "# Splitting the data into training and testing sets\n",
    "X_train, X_test, y_train, y_test = train_test_split(X, y, stratify=y, random_state=42)"
   ]
  },
  {
   "cell_type": "code",
   "execution_count": 7,
   "id": "7b72995d",
   "metadata": {
    "scrolled": false
   },
   "outputs": [
    {
     "name": "stdout",
     "output_type": "stream",
     "text": [
      "yoga flow w/ downward dog forward fold point online videos/routines flow avoid positions? pt need avoid bulge disc weightlifting. i'd prefer flow like yin yoga possible, routine variety. thanks!\n"
     ]
    },
    {
     "data": {
      "text/plain": [
       "266     yoga flow w/ downward dog forward fold point o...\n",
       "2865    important pre-meditation warm ? abdominal brea...\n",
       "467     men's pant yoga running? hello. seek advice re...\n",
       "2659    day meditate irritated i'm happy ? it's year m...\n",
       "845     yoga virgin i'm male san antonio texas,eager t...\n",
       "Name: selftext_gensim, dtype: object"
      ]
     },
     "execution_count": 7,
     "metadata": {},
     "output_type": "execute_result"
    }
   ],
   "source": [
    "print(X_train.iloc[0]) # Previewing a full sentence\n",
    "X_train.head()"
   ]
  },
  {
   "cell_type": "code",
   "execution_count": 8,
   "id": "96cf4b11",
   "metadata": {},
   "outputs": [],
   "source": [
    "# Set seaborn style\n",
    "sns.set_style(style='darkgrid')\n",
    "sns.set(font_scale=1.1)"
   ]
  },
  {
   "cell_type": "markdown",
   "id": "37b26e67",
   "metadata": {},
   "source": [
    "**What is the difference between CountVectorizer and TFIDFVectorizer?**\n",
    "\n",
    "TFIDF: It stands for Term Frequency - Inverse Document Frequency and it is a statistic that aims to better define how important a word is for a document, while also taking into account the relation to other documents from the same corpus.\n",
    "\n",
    "The goal of using TF-IDF instead of the raw frequencies of occurrence of a token in a given document is to scale down the impact of tokens that occur very frequently in a given corpus and that are hence empirically less informative than features that occur in a small fraction of the training corpus."
   ]
  },
  {
   "cell_type": "markdown",
   "id": "08bb2206",
   "metadata": {},
   "source": [
    "## Start of Workflow"
   ]
  },
  {
   "cell_type": "markdown",
   "id": "b6bdb0ef",
   "metadata": {},
   "source": [
    "### Logistic Regression\n",
    "\n",
    "Logistic Regression is a classification technique that is commonly used in machine learning. It utilises a logistic function to model the dependent variable (whether a subreddit falls under r/yoga or not). \n",
    "\n",
    "**Advantages:**\n",
    "* Easy to implement, interpret and very efficient to train\n",
    "* It performs well when the dataset is linearly separable\n",
    "* It can interpret model coefficients as indicators of feature importance\n",
    "\n",
    "**Disadvanages:**\n",
    "* It constructs linear boundaries which means that independent variables need to be linearly related to the log-odds\n",
    "* Assumption of linearity between the dependent variable and the independent variables\n",
    "* More powerful and compact algorithms can easily outperform this algorithm"
   ]
  },
  {
   "cell_type": "markdown",
   "id": "9ad9e5e3",
   "metadata": {},
   "source": [
    "### Logistic Regression with Count Vectorizer"
   ]
  },
  {
   "cell_type": "markdown",
   "id": "f6f1895a",
   "metadata": {},
   "source": [
    "After multiple iterations of different models, we have realised that we will need to define custom stop-words to help optimise the model."
   ]
  },
  {
   "cell_type": "code",
   "execution_count": 9,
   "id": "243e245c",
   "metadata": {},
   "outputs": [],
   "source": [
    "# Creation of custom stop-words\n",
    "custom_stopwords = ['english', 'yoga', 'meditation', 've', 'it', 'wa', 'like', 'ha', \n",
    "                    'meditating', 'meditator', 'meditative', 'meditate', 'don', 'amp', 'nan']"
   ]
  },
  {
   "cell_type": "code",
   "execution_count": 10,
   "id": "25d49054",
   "metadata": {},
   "outputs": [],
   "source": [
    "# Set-up pipeline for CVEC\n",
    "pipe_logr_cvec = Pipeline([\n",
    "    ('cvec', CountVectorizer()),\n",
    "    ('logr', LogisticRegression())\n",
    "])"
   ]
  },
  {
   "cell_type": "code",
   "execution_count": 11,
   "id": "556d83c3",
   "metadata": {},
   "outputs": [],
   "source": [
    "# Obtain parameter keys\n",
    "#sorted(pipe_logr_cvec.get_params().keys())"
   ]
  },
  {
   "cell_type": "code",
   "execution_count": 12,
   "id": "02ce7b96",
   "metadata": {},
   "outputs": [],
   "source": [
    "# Set up parameters specific to CVEC and logistic regression\n",
    "logr_cvec_params = {\n",
    "    'cvec__stop_words': [custom_stopwords],\n",
    "    'cvec__max_features': [2000, 3000, 4000, 5000],\n",
    "    'cvec__min_df': [2, 3, 4],\n",
    "    'cvec__max_df': [.9, .95],\n",
    "    'cvec__ngram_range': [(1,1), (1,2)],\n",
    "    'logr__max_iter': [100, 200]\n",
    "}"
   ]
  },
  {
   "cell_type": "code",
   "execution_count": 13,
   "id": "72c9abca",
   "metadata": {},
   "outputs": [],
   "source": [
    "# Initialize GridSearchCV\n",
    "gs_logr_cvec = GridSearchCV(pipe_logr_cvec, param_grid = logr_cvec_params, cv=5, verbose=1)"
   ]
  },
  {
   "cell_type": "code",
   "execution_count": 14,
   "id": "1d81dd51",
   "metadata": {},
   "outputs": [
    {
     "name": "stdout",
     "output_type": "stream",
     "text": [
      "Fitting 5 folds for each of 96 candidates, totalling 480 fits\n",
      "Wall time: 1min 23s\n"
     ]
    },
    {
     "data": {
      "text/plain": [
       "GridSearchCV(cv=5,\n",
       "             estimator=Pipeline(steps=[('cvec', CountVectorizer()),\n",
       "                                       ('logr', LogisticRegression())]),\n",
       "             param_grid={'cvec__max_df': [0.9, 0.95],\n",
       "                         'cvec__max_features': [2000, 3000, 4000, 5000],\n",
       "                         'cvec__min_df': [2, 3, 4],\n",
       "                         'cvec__ngram_range': [(1, 1), (1, 2)],\n",
       "                         'cvec__stop_words': [['english', 'yoga', 'meditation',\n",
       "                                               've', 'it', 'wa', 'like', 'ha',\n",
       "                                               'meditating', 'meditator',\n",
       "                                               'meditative', 'meditate', 'don',\n",
       "                                               'amp', 'nan']],\n",
       "                         'logr__max_iter': [100, 200]},\n",
       "             verbose=1)"
      ]
     },
     "execution_count": 14,
     "metadata": {},
     "output_type": "execute_result"
    }
   ],
   "source": [
    "%%time\n",
    "\n",
    "# Fit model\n",
    "gs_logr_cvec.fit(X_train, y_train)"
   ]
  },
  {
   "cell_type": "code",
   "execution_count": 15,
   "id": "aca54c27",
   "metadata": {},
   "outputs": [
    {
     "name": "stdout",
     "output_type": "stream",
     "text": [
      "0.8553744017291957\n"
     ]
    },
    {
     "data": {
      "text/plain": [
       "{'cvec__max_df': 0.9,\n",
       " 'cvec__max_features': 4000,\n",
       " 'cvec__min_df': 2,\n",
       " 'cvec__ngram_range': (1, 1),\n",
       " 'cvec__stop_words': ['english',\n",
       "  'yoga',\n",
       "  'meditation',\n",
       "  've',\n",
       "  'it',\n",
       "  'wa',\n",
       "  'like',\n",
       "  'ha',\n",
       "  'meditating',\n",
       "  'meditator',\n",
       "  'meditative',\n",
       "  'meditate',\n",
       "  'don',\n",
       "  'amp',\n",
       "  'nan'],\n",
       " 'logr__max_iter': 100}"
      ]
     },
     "execution_count": 15,
     "metadata": {},
     "output_type": "execute_result"
    }
   ],
   "source": [
    "# Obtaining our best model\n",
    "print(gs_logr_cvec.best_score_)\n",
    "\n",
    "# Finding out the best parameters\n",
    "gs_logr_cvec.best_params_"
   ]
  },
  {
   "cell_type": "code",
   "execution_count": 16,
   "id": "19842575",
   "metadata": {},
   "outputs": [
    {
     "data": {
      "text/plain": [
       "0.9945"
      ]
     },
     "execution_count": 16,
     "metadata": {},
     "output_type": "execute_result"
    }
   ],
   "source": [
    "# Scoring against our train split\n",
    "logr_cvec_accuracy_tr = np.round(gs_logr_cvec.score(X_train, y_train), 4)\n",
    "logr_cvec_accuracy_tr"
   ]
  },
  {
   "cell_type": "code",
   "execution_count": 17,
   "id": "5fa0fd5b",
   "metadata": {},
   "outputs": [
    {
     "data": {
      "image/png": "[encoded data removed]",
      "text/plain": [
       "<Figure size 432x288 with 2 Axes>"
      ]
     },
     "metadata": {},
     "output_type": "display_data"
    }
   ],
   "source": [
    "# Generating predictions for our test data\n",
    "gs_logr_cvec_preds = gs_logr_cvec.predict(X_test)\n",
    "\n",
    "# Creating a confusion matrix\n",
    "gs_logr_cvec_cm = confusion_matrix(y_test, gs_logr_cvec_preds)\n",
    "ConfusionMatrixDisplay(confusion_matrix = gs_logr_cvec_cm, display_labels=['r/yoga', 'r/meditation']).plot();"
   ]
  },
  {
   "cell_type": "code",
   "execution_count": 18,
   "id": "7c05a2bb",
   "metadata": {},
   "outputs": [
    {
     "data": {
      "text/plain": [
       "0.8538"
      ]
     },
     "execution_count": 18,
     "metadata": {},
     "output_type": "execute_result"
    }
   ],
   "source": [
    "# Scoring against our test data\n",
    "logr_cvec_accuracy = np.round(gs_logr_cvec.score(X_test, y_test), 4)\n",
    "logr_cvec_accuracy"
   ]
  },
  {
   "cell_type": "markdown",
   "id": "0c2f1030",
   "metadata": {},
   "source": [
    "**Note:** Just based on accuracy alone, we are seeing significant overfit in the training model."
   ]
  },
  {
   "cell_type": "code",
   "execution_count": 19,
   "id": "353bb8af",
   "metadata": {},
   "outputs": [
    {
     "data": {
      "text/plain": [
       "0.875"
      ]
     },
     "execution_count": 19,
     "metadata": {},
     "output_type": "execute_result"
    }
   ],
   "source": [
    "# Obtain Precision score\n",
    "logr_cvec_precision = np.round(precision_score(y_test, gs_logr_cvec.predict(X_test)), 4)\n",
    "logr_cvec_precision"
   ]
  },
  {
   "cell_type": "code",
   "execution_count": 20,
   "id": "a6c791fe",
   "metadata": {},
   "outputs": [
    {
     "data": {
      "text/plain": [
       "0.7557"
      ]
     },
     "execution_count": 20,
     "metadata": {},
     "output_type": "execute_result"
    }
   ],
   "source": [
    "# Obtain Recall score\n",
    "logr_cvec_recall = np.round(recall_score(y_test, gs_logr_cvec.predict(X_test)), 4)\n",
    "logr_cvec_recall"
   ]
  },
  {
   "cell_type": "code",
   "execution_count": 21,
   "id": "ede08fb0",
   "metadata": {},
   "outputs": [
    {
     "data": {
      "text/plain": [
       "0.811"
      ]
     },
     "execution_count": 21,
     "metadata": {},
     "output_type": "execute_result"
    }
   ],
   "source": [
    "# Obtain F1 score\n",
    "logr_cvec_f1 = np.round(f1_score(y_test, gs_logr_cvec.predict(X_test)), 4)\n",
    "logr_cvec_f1"
   ]
  },
  {
   "cell_type": "code",
   "execution_count": 22,
   "id": "8d72b672",
   "metadata": {
    "scrolled": false
   },
   "outputs": [
    {
     "data": {
      "image/png": "[encoded data removed]",
      "text/plain": [
       "<Figure size 720x360 with 1 Axes>"
      ]
     },
     "metadata": {},
     "output_type": "display_data"
    }
   ],
   "source": [
    "# Let's plot our ROC curve\n",
    "plt.rcParams[\"figure.figsize\"] = (10,5)\n",
    "\n",
    "plot_roc_curve(gs_logr_cvec, X_test, y_test, color=\"darkblue\")\n",
    "plt.plot([0, 1], [0, 1], label = 'Baseline', linestyle = '--', color=\"green\")\n",
    "plt.title(\"Logistic Regression + CountVect overlay\")\n",
    "plt.legend()\n",
    "plt.show()"
   ]
  },
  {
   "cell_type": "code",
   "execution_count": 23,
   "id": "57ad3e8e",
   "metadata": {},
   "outputs": [
    {
     "data": {
      "text/plain": [
       "0.9275"
      ]
     },
     "execution_count": 23,
     "metadata": {},
     "output_type": "execute_result"
    }
   ],
   "source": [
    "# Obtain area under the ROC curve\n",
    "logr_cvec_roc_auc_score = np.round(roc_auc_score(y_test, gs_logr_cvec.predict_proba(X_test)[:,1]), 4)\n",
    "logr_cvec_roc_auc_score"
   ]
  },
  {
   "cell_type": "markdown",
   "id": "e93f16b8",
   "metadata": {},
   "source": [
    "**Logistic Regression with Tifdf**"
   ]
  },
  {
   "cell_type": "code",
   "execution_count": 24,
   "id": "25b42b1d",
   "metadata": {},
   "outputs": [],
   "source": [
    "# Set-up pipeline for CVEC\n",
    "pipe_logr_tvec = Pipeline([\n",
    "    ('tvec', TfidfVectorizer()),\n",
    "    ('logr', LogisticRegression())\n",
    "])"
   ]
  },
  {
   "cell_type": "code",
   "execution_count": 25,
   "id": "f86c775f",
   "metadata": {},
   "outputs": [],
   "source": [
    "logr_tvec_params = {\n",
    "    'tvec__max_features': [2_000, 3_000, 4_000, 5_000],\n",
    "    'tvec__stop_words': [custom_stopwords],\n",
    "    'tvec__ngram_range': [(1,1), (1,2)],\n",
    "    'logr__max_iter': [100, 200]\n",
    "}"
   ]
  },
  {
   "cell_type": "code",
   "execution_count": 26,
   "id": "b30592ac",
   "metadata": {},
   "outputs": [],
   "source": [
    "# Initialize GridSearchCV\n",
    "gs_logr_tvec = GridSearchCV(pipe_logr_tvec, param_grid = logr_tvec_params, cv=5, verbose=1)"
   ]
  },
  {
   "cell_type": "code",
   "execution_count": 27,
   "id": "13b3e6e1",
   "metadata": {},
   "outputs": [
    {
     "name": "stdout",
     "output_type": "stream",
     "text": [
      "Fitting 5 folds for each of 16 candidates, totalling 80 fits\n",
      "Wall time: 13.4 s\n"
     ]
    },
    {
     "data": {
      "text/plain": [
       "GridSearchCV(cv=5,\n",
       "             estimator=Pipeline(steps=[('tvec', TfidfVectorizer()),\n",
       "                                       ('logr', LogisticRegression())]),\n",
       "             param_grid={'logr__max_iter': [100, 200],\n",
       "                         'tvec__max_features': [2000, 3000, 4000, 5000],\n",
       "                         'tvec__ngram_range': [(1, 1), (1, 2)],\n",
       "                         'tvec__stop_words': [['english', 'yoga', 'meditation',\n",
       "                                               've', 'it', 'wa', 'like', 'ha',\n",
       "                                               'meditating', 'meditator',\n",
       "                                               'meditative', 'meditate', 'don',\n",
       "                                               'amp', 'nan']]},\n",
       "             verbose=1)"
      ]
     },
     "execution_count": 27,
     "metadata": {},
     "output_type": "execute_result"
    }
   ],
   "source": [
    "%%time\n",
    "\n",
    "# Fit model\n",
    "gs_logr_tvec.fit(X_train, y_train)"
   ]
  },
  {
   "cell_type": "code",
   "execution_count": 28,
   "id": "8bb8f3a0",
   "metadata": {},
   "outputs": [
    {
     "name": "stdout",
     "output_type": "stream",
     "text": [
      "0.8703103288559518\n"
     ]
    },
    {
     "data": {
      "text/plain": [
       "{'logr__max_iter': 100,\n",
       " 'tvec__max_features': 3000,\n",
       " 'tvec__ngram_range': (1, 1),\n",
       " 'tvec__stop_words': ['english',\n",
       "  'yoga',\n",
       "  'meditation',\n",
       "  've',\n",
       "  'it',\n",
       "  'wa',\n",
       "  'like',\n",
       "  'ha',\n",
       "  'meditating',\n",
       "  'meditator',\n",
       "  'meditative',\n",
       "  'meditate',\n",
       "  'don',\n",
       "  'amp',\n",
       "  'nan']}"
      ]
     },
     "execution_count": 28,
     "metadata": {},
     "output_type": "execute_result"
    }
   ],
   "source": [
    "print(gs_logr_tvec.best_score_)\n",
    "gs_logr_tvec.best_params_"
   ]
  },
  {
   "cell_type": "code",
   "execution_count": 29,
   "id": "806779f8",
   "metadata": {},
   "outputs": [
    {
     "data": {
      "text/plain": [
       "0.9513"
      ]
     },
     "execution_count": 29,
     "metadata": {},
     "output_type": "execute_result"
    }
   ],
   "source": [
    "# Scoring against our train split\n",
    "logr_tvec_accuracy_tr = np.round(gs_logr_tvec.score(X_train, y_train), 4)\n",
    "logr_tvec_accuracy_tr"
   ]
  },
  {
   "cell_type": "code",
   "execution_count": 30,
   "id": "831432f0",
   "metadata": {},
   "outputs": [
    {
     "data": {
      "image/png": "[encoded data removed]",
      "text/plain": [
       "<Figure size 720x360 with 2 Axes>"
      ]
     },
     "metadata": {},
     "output_type": "display_data"
    }
   ],
   "source": [
    "# Generating predictions for our test data\n",
    "gs_logr_tvec_preds = gs_logr_tvec.predict(X_test)\n",
    "\n",
    "# Creating a confusion matrix\n",
    "gs_logr_tvec_cm = confusion_matrix(y_test, gs_logr_tvec_preds)\n",
    "ConfusionMatrixDisplay(confusion_matrix = gs_logr_tvec_cm, display_labels=['r/yoga', 'r/meditation']).plot();"
   ]
  },
  {
   "cell_type": "code",
   "execution_count": 31,
   "id": "e5410e8e",
   "metadata": {},
   "outputs": [
    {
     "data": {
      "text/plain": [
       "0.8726"
      ]
     },
     "execution_count": 31,
     "metadata": {},
     "output_type": "execute_result"
    }
   ],
   "source": [
    "# Scoring against our test split\n",
    "logr_tvec_accuracy = np.round(gs_logr_tvec.score(X_test, y_test), 4)\n",
    "logr_tvec_accuracy"
   ]
  },
  {
   "cell_type": "code",
   "execution_count": 32,
   "id": "1ad1cc76",
   "metadata": {},
   "outputs": [
    {
     "data": {
      "text/plain": [
       "0.9766"
      ]
     },
     "execution_count": 32,
     "metadata": {},
     "output_type": "execute_result"
    }
   ],
   "source": [
    "# Obtain Precision score\n",
    "logr_tvec_precision = np.round(precision_score(y_test, gs_logr_tvec.predict(X_test)), 4)\n",
    "logr_tvec_precision"
   ]
  },
  {
   "cell_type": "code",
   "execution_count": 33,
   "id": "cb856324",
   "metadata": {},
   "outputs": [
    {
     "data": {
      "text/plain": [
       "0.7102"
      ]
     },
     "execution_count": 33,
     "metadata": {},
     "output_type": "execute_result"
    }
   ],
   "source": [
    "# Obtain Recall score\n",
    "logr_tvec_recall = np.round(recall_score(y_test, gs_logr_tvec.predict(X_test)), 4)\n",
    "logr_tvec_recall"
   ]
  },
  {
   "cell_type": "code",
   "execution_count": 34,
   "id": "95371066",
   "metadata": {},
   "outputs": [
    {
     "data": {
      "text/plain": [
       "0.8224"
      ]
     },
     "execution_count": 34,
     "metadata": {},
     "output_type": "execute_result"
    }
   ],
   "source": [
    "# Obtain F1 score\n",
    "logr_tvec_f1 = np.round(f1_score(y_test, gs_logr_tvec.predict(X_test)), 4)\n",
    "logr_tvec_f1"
   ]
  },
  {
   "cell_type": "code",
   "execution_count": 35,
   "id": "a39d916c",
   "metadata": {
    "scrolled": true
   },
   "outputs": [
    {
     "data": {
      "image/png": "[encoded data removed]",
      "text/plain": [
       "<Figure size 720x360 with 1 Axes>"
      ]
     },
     "metadata": {},
     "output_type": "display_data"
    }
   ],
   "source": [
    "# Let's plot our ROC curve\n",
    "plt.rcParams[\"figure.figsize\"] = (10,5)\n",
    "\n",
    "plot_roc_curve(gs_logr_tvec, X_test, y_test, color=\"darkblue\")\n",
    "plt.plot([0, 1], [0, 1], label = 'Baseline', linestyle = '--', color=\"green\")\n",
    "plt.legend()\n",
    "plt.show()"
   ]
  },
  {
   "cell_type": "code",
   "execution_count": 36,
   "id": "3e7f66c9",
   "metadata": {},
   "outputs": [
    {
     "data": {
      "text/plain": [
       "0.9496"
      ]
     },
     "execution_count": 36,
     "metadata": {},
     "output_type": "execute_result"
    }
   ],
   "source": [
    "# Obtain area under the ROC curve\n",
    "logr_tvec_roc_auc_score = np.round(roc_auc_score(y_test, gs_logr_tvec.predict_proba(X_test)[:,1]), 4)\n",
    "logr_tvec_roc_auc_score"
   ]
  },
  {
   "cell_type": "markdown",
   "id": "6adfcdd3",
   "metadata": {},
   "source": [
    "### Multinomial Naive Bayes (NB)\n",
    "\n",
    "We apply Multinomial Naive Bayes here where our variables are positive integers (after running CountVect and Tfidf). It is a supervised learning algorithm for classification so the task is to find the class of observation given the values of features.\n",
    "\n",
    "**Advantages**:\n",
    "* The assumption that all features are independent makes naive bayes algorithm very fast compared to complicated algorithms. Speed is preferred over higher accuracy (Low computation cost)\n",
    "* Easy to implement; Able to effectively work with large datasets\n",
    "* It works well with high-dimensional data such as text classification, email spam detection\n",
    "\n",
    "**Disadvantages**:\n",
    "* The assumption that all features are independent is not the case in real life so it makes naive bayes algorithm less accurate than complicated algorithms\n",
    "* While our classifications are accurate, our predicted probabilities are usually quite bad"
   ]
  },
  {
   "cell_type": "markdown",
   "id": "f4994159",
   "metadata": {},
   "source": [
    "**Multinomial Naive Bayes with Count Vectorizer**"
   ]
  },
  {
   "cell_type": "code",
   "execution_count": 37,
   "id": "1b453112",
   "metadata": {},
   "outputs": [],
   "source": [
    "# Set-up pipeline for CVEC\n",
    "pipe_nb_cvec = Pipeline([\n",
    "    ('cvec', CountVectorizer()),\n",
    "    ('nb', MultinomialNB())\n",
    "])"
   ]
  },
  {
   "cell_type": "code",
   "execution_count": 38,
   "id": "6431ccf1",
   "metadata": {},
   "outputs": [],
   "source": [
    "# Obtain parameter keys\n",
    "#sorted(pipe_nb_cvec.get_params().keys())"
   ]
  },
  {
   "cell_type": "code",
   "execution_count": 39,
   "id": "b77bafdd",
   "metadata": {},
   "outputs": [],
   "source": [
    "# Set up parameters specific to CVEC\n",
    "nb_cvec_params = {\n",
    "    'cvec__stop_words': [custom_stopwords],\n",
    "    'cvec__max_features': [2000, 3000, 4000, 5000],\n",
    "    'cvec__min_df': [2, 3, 4],\n",
    "    'cvec__max_df': [.9, .95],\n",
    "    'cvec__ngram_range': [(1,1), (1,2)],\n",
    "    'nb__alpha': [0.9, 1]\n",
    "}"
   ]
  },
  {
   "cell_type": "code",
   "execution_count": 40,
   "id": "9fd63cae",
   "metadata": {},
   "outputs": [],
   "source": [
    "# Initialize GridSearchCV\n",
    "gs_nb_cvec = GridSearchCV(pipe_nb_cvec, param_grid = nb_cvec_params, cv=5, verbose=1)"
   ]
  },
  {
   "cell_type": "code",
   "execution_count": 41,
   "id": "1b1af568",
   "metadata": {},
   "outputs": [
    {
     "name": "stdout",
     "output_type": "stream",
     "text": [
      "Fitting 5 folds for each of 96 candidates, totalling 480 fits\n",
      "Wall time: 1min 6s\n"
     ]
    },
    {
     "data": {
      "text/plain": [
       "GridSearchCV(cv=5,\n",
       "             estimator=Pipeline(steps=[('cvec', CountVectorizer()),\n",
       "                                       ('nb', MultinomialNB())]),\n",
       "             param_grid={'cvec__max_df': [0.9, 0.95],\n",
       "                         'cvec__max_features': [2000, 3000, 4000, 5000],\n",
       "                         'cvec__min_df': [2, 3, 4],\n",
       "                         'cvec__ngram_range': [(1, 1), (1, 2)],\n",
       "                         'cvec__stop_words': [['english', 'yoga', 'meditation',\n",
       "                                               've', 'it', 'wa', 'like', 'ha',\n",
       "                                               'meditating', 'meditator',\n",
       "                                               'meditative', 'meditate', 'don',\n",
       "                                               'amp', 'nan']],\n",
       "                         'nb__alpha': [0.9, 1]},\n",
       "             verbose=1)"
      ]
     },
     "execution_count": 41,
     "metadata": {},
     "output_type": "execute_result"
    }
   ],
   "source": [
    "%%time\n",
    "gs_nb_cvec.fit(X_train, y_train)"
   ]
  },
  {
   "cell_type": "code",
   "execution_count": 42,
   "id": "10f11d83",
   "metadata": {},
   "outputs": [
    {
     "name": "stdout",
     "output_type": "stream",
     "text": [
      "0.874216458236838\n"
     ]
    },
    {
     "data": {
      "text/plain": [
       "{'cvec__max_df': 0.9,\n",
       " 'cvec__max_features': 5000,\n",
       " 'cvec__min_df': 2,\n",
       " 'cvec__ngram_range': (1, 2),\n",
       " 'cvec__stop_words': ['english',\n",
       "  'yoga',\n",
       "  'meditation',\n",
       "  've',\n",
       "  'it',\n",
       "  'wa',\n",
       "  'like',\n",
       "  'ha',\n",
       "  'meditating',\n",
       "  'meditator',\n",
       "  'meditative',\n",
       "  'meditate',\n",
       "  'don',\n",
       "  'amp',\n",
       "  'nan'],\n",
       " 'nb__alpha': 0.9}"
      ]
     },
     "execution_count": 42,
     "metadata": {},
     "output_type": "execute_result"
    }
   ],
   "source": [
    "# Determining our best model score and parameters\n",
    "print(gs_nb_cvec.best_score_)\n",
    "gs_nb_cvec.best_params_"
   ]
  },
  {
   "cell_type": "code",
   "execution_count": 43,
   "id": "4b806fc5",
   "metadata": {
    "scrolled": true
   },
   "outputs": [
    {
     "data": {
      "text/plain": [
       "0.941"
      ]
     },
     "execution_count": 43,
     "metadata": {},
     "output_type": "execute_result"
    }
   ],
   "source": [
    "# Scoring our train split\n",
    "nb_cvec_accuracy_tr = np.round(gs_nb_cvec.score(X_train, y_train), 4)\n",
    "nb_cvec_accuracy_tr"
   ]
  },
  {
   "cell_type": "code",
   "execution_count": 44,
   "id": "fadd9fe6",
   "metadata": {},
   "outputs": [
    {
     "data": {
      "image/png": "[encoded data removed]",
      "text/plain": [
       "<Figure size 720x360 with 2 Axes>"
      ]
     },
     "metadata": {},
     "output_type": "display_data"
    }
   ],
   "source": [
    "# Generating predictions for our test data\n",
    "gs_nb_cvec_preds = gs_nb_cvec.predict(X_test)\n",
    "\n",
    "# Creating a confusion matrix\n",
    "gs_nb_cvec_cm = confusion_matrix(y_test, gs_nb_cvec_preds)\n",
    "ConfusionMatrixDisplay(confusion_matrix = gs_nb_cvec_cm, display_labels=['r/yoga', 'r/meditation']).plot();"
   ]
  },
  {
   "cell_type": "code",
   "execution_count": 45,
   "id": "56f1df06",
   "metadata": {},
   "outputs": [
    {
     "data": {
      "text/plain": [
       "0.8703"
      ]
     },
     "execution_count": 45,
     "metadata": {},
     "output_type": "execute_result"
    }
   ],
   "source": [
    "# Scoring our test split\n",
    "nb_cvec_accuracy = np.round(gs_nb_cvec.score(X_test, y_test), 4)\n",
    "nb_cvec_accuracy"
   ]
  },
  {
   "cell_type": "code",
   "execution_count": 46,
   "id": "118f0c67",
   "metadata": {},
   "outputs": [
    {
     "data": {
      "text/plain": [
       "0.8497"
      ]
     },
     "execution_count": 46,
     "metadata": {},
     "output_type": "execute_result"
    }
   ],
   "source": [
    "# Obtain Precision score\n",
    "nb_cvec_precision = np.round(precision_score(y_test, gs_nb_cvec.predict(X_test)), 4)\n",
    "nb_cvec_precision"
   ]
  },
  {
   "cell_type": "code",
   "execution_count": 47,
   "id": "2b1f358f",
   "metadata": {},
   "outputs": [
    {
     "data": {
      "text/plain": [
       "0.8352"
      ]
     },
     "execution_count": 47,
     "metadata": {},
     "output_type": "execute_result"
    }
   ],
   "source": [
    "# Obtain Recall score\n",
    "nb_cvec_recall = np.round(recall_score(y_test, gs_nb_cvec.predict(X_test)), 4)\n",
    "nb_cvec_recall"
   ]
  },
  {
   "cell_type": "code",
   "execution_count": 48,
   "id": "3f5e3312",
   "metadata": {},
   "outputs": [
    {
     "data": {
      "text/plain": [
       "0.8424"
      ]
     },
     "execution_count": 48,
     "metadata": {},
     "output_type": "execute_result"
    }
   ],
   "source": [
    "# Obtain F1 score\n",
    "nb_cvec_f1 = np.round(f1_score(y_test, gs_nb_cvec.predict(X_test)), 4)\n",
    "nb_cvec_f1"
   ]
  },
  {
   "cell_type": "code",
   "execution_count": 49,
   "id": "2a0586df",
   "metadata": {
    "scrolled": false
   },
   "outputs": [
    {
     "data": {
      "image/png": "[encoded data removed]",
      "text/plain": [
       "<Figure size 720x360 with 1 Axes>"
      ]
     },
     "metadata": {},
     "output_type": "display_data"
    }
   ],
   "source": [
    "# Let's plot our ROC curve\n",
    "plot_roc_curve(gs_nb_cvec, X_test, y_test, color=\"darkblue\")\n",
    "plt.plot([0, 1], [0, 1], label = 'Baseline', linestyle = '--', color=\"green\")\n",
    "plt.legend()\n",
    "plt.show()"
   ]
  },
  {
   "cell_type": "code",
   "execution_count": 50,
   "id": "b5f73bab",
   "metadata": {},
   "outputs": [
    {
     "data": {
      "text/plain": [
       "0.9446"
      ]
     },
     "execution_count": 50,
     "metadata": {},
     "output_type": "execute_result"
    }
   ],
   "source": [
    "# Obtain area under the ROC curve\n",
    "nb_cvec_roc_auc_score = np.round(roc_auc_score(y_test, gs_nb_cvec.predict_proba(X_test)[:,1]), 4)\n",
    "nb_cvec_roc_auc_score"
   ]
  },
  {
   "cell_type": "markdown",
   "id": "bd5ec112",
   "metadata": {},
   "source": [
    "**Multinomial Naive Bayes with TfidfVectorizer**"
   ]
  },
  {
   "cell_type": "code",
   "execution_count": 51,
   "id": "fb4b4336",
   "metadata": {},
   "outputs": [],
   "source": [
    "# Set-up pipeline for tf-idf vectorizer\n",
    "pipe_nb_tvec = Pipeline([\n",
    "    ('tvec', TfidfVectorizer()),\n",
    "    ('nb', MultinomialNB())\n",
    "])"
   ]
  },
  {
   "cell_type": "code",
   "execution_count": 52,
   "id": "7e75b6cf",
   "metadata": {},
   "outputs": [],
   "source": [
    "nb_tvec_params = {\n",
    "    'tvec__max_features': [2_000, 3_000, 4_000, 5_000],\n",
    "    'tvec__stop_words': [custom_stopwords],\n",
    "    'tvec__ngram_range': [(1,1), (1,2)],\n",
    "    'nb__alpha': [0.9, 1]\n",
    "}"
   ]
  },
  {
   "cell_type": "code",
   "execution_count": 53,
   "id": "ecce56f6",
   "metadata": {},
   "outputs": [],
   "source": [
    "# Instantiate GridSearchCV.\n",
    "gs_nb_tvec = GridSearchCV(pipe_nb_tvec, param_grid = nb_tvec_params, cv=5, verbose=1)"
   ]
  },
  {
   "cell_type": "code",
   "execution_count": 54,
   "id": "872192f2",
   "metadata": {},
   "outputs": [
    {
     "name": "stdout",
     "output_type": "stream",
     "text": [
      "Fitting 5 folds for each of 16 candidates, totalling 80 fits\n",
      "Wall time: 11.7 s\n"
     ]
    },
    {
     "data": {
      "text/plain": [
       "GridSearchCV(cv=5,\n",
       "             estimator=Pipeline(steps=[('tvec', TfidfVectorizer()),\n",
       "                                       ('nb', MultinomialNB())]),\n",
       "             param_grid={'nb__alpha': [0.9, 1],\n",
       "                         'tvec__max_features': [2000, 3000, 4000, 5000],\n",
       "                         'tvec__ngram_range': [(1, 1), (1, 2)],\n",
       "                         'tvec__stop_words': [['english', 'yoga', 'meditation',\n",
       "                                               've', 'it', 'wa', 'like', 'ha',\n",
       "                                               'meditating', 'meditator',\n",
       "                                               'meditative', 'meditate', 'don',\n",
       "                                               'amp', 'nan']]},\n",
       "             verbose=1)"
      ]
     },
     "execution_count": 54,
     "metadata": {},
     "output_type": "execute_result"
    }
   ],
   "source": [
    "%%time\n",
    "\n",
    "# Fit our model\n",
    "gs_nb_tvec.fit(X_train, y_train)"
   ]
  },
  {
   "cell_type": "code",
   "execution_count": 55,
   "id": "e20c5609",
   "metadata": {},
   "outputs": [
    {
     "name": "stdout",
     "output_type": "stream",
     "text": [
      "0.8648077813802686\n"
     ]
    },
    {
     "data": {
      "text/plain": [
       "{'nb__alpha': 0.9,\n",
       " 'tvec__max_features': 2000,\n",
       " 'tvec__ngram_range': (1, 2),\n",
       " 'tvec__stop_words': ['english',\n",
       "  'yoga',\n",
       "  'meditation',\n",
       "  've',\n",
       "  'it',\n",
       "  'wa',\n",
       "  'like',\n",
       "  'ha',\n",
       "  'meditating',\n",
       "  'meditator',\n",
       "  'meditative',\n",
       "  'meditate',\n",
       "  'don',\n",
       "  'amp',\n",
       "  'nan']}"
      ]
     },
     "execution_count": 55,
     "metadata": {},
     "output_type": "execute_result"
    }
   ],
   "source": [
    "# Find out our best score and parameters\n",
    "print(gs_nb_tvec.best_score_)\n",
    "gs_nb_tvec.best_params_"
   ]
  },
  {
   "cell_type": "code",
   "execution_count": 56,
   "id": "66eb6f28",
   "metadata": {},
   "outputs": [
    {
     "data": {
      "text/plain": [
       "0.9237"
      ]
     },
     "execution_count": 56,
     "metadata": {},
     "output_type": "execute_result"
    }
   ],
   "source": [
    "# Score model on our train split\n",
    "nb_tvec_accuracy_tr = np.round(gs_nb_tvec.score(X_train, y_train), 4)\n",
    "nb_tvec_accuracy_tr"
   ]
  },
  {
   "cell_type": "code",
   "execution_count": 57,
   "id": "c5838c13",
   "metadata": {},
   "outputs": [
    {
     "data": {
      "image/png": "[encoded data removed]",
      "text/plain": [
       "<Figure size 720x360 with 2 Axes>"
      ]
     },
     "metadata": {},
     "output_type": "display_data"
    }
   ],
   "source": [
    "# Generating predictions for our test data\n",
    "gs_nb_tvec_preds = gs_nb_tvec.predict(X_test)\n",
    "\n",
    "# Creating a confusion matrix\n",
    "gs_nb_tvec_cm = confusion_matrix(y_test, gs_nb_tvec_preds)\n",
    "ConfusionMatrixDisplay(confusion_matrix = gs_nb_tvec_cm, display_labels=['r/yoga', 'r/meditation']).plot();"
   ]
  },
  {
   "cell_type": "code",
   "execution_count": 58,
   "id": "0a55dada",
   "metadata": {},
   "outputs": [
    {
     "data": {
      "text/plain": [
       "0.8679"
      ]
     },
     "execution_count": 58,
     "metadata": {},
     "output_type": "execute_result"
    }
   ],
   "source": [
    "# Score model on test split\n",
    "nb_tvec_accuracy = np.round(gs_nb_tvec.score(X_test, y_test), 4)\n",
    "nb_tvec_accuracy"
   ]
  },
  {
   "cell_type": "code",
   "execution_count": 59,
   "id": "83b44b9d",
   "metadata": {},
   "outputs": [
    {
     "data": {
      "text/plain": [
       "0.9412"
      ]
     },
     "execution_count": 59,
     "metadata": {},
     "output_type": "execute_result"
    }
   ],
   "source": [
    "# Obtain Precision score\n",
    "nb_tvec_precision = np.round(precision_score(y_test, gs_nb_tvec.predict(X_test)), 4)\n",
    "nb_tvec_precision"
   ]
  },
  {
   "cell_type": "code",
   "execution_count": 60,
   "id": "e5495375",
   "metadata": {},
   "outputs": [
    {
     "data": {
      "text/plain": [
       "0.7273"
      ]
     },
     "execution_count": 60,
     "metadata": {},
     "output_type": "execute_result"
    }
   ],
   "source": [
    "# Obtain Recall score\n",
    "nb_tvec_recall = np.round(recall_score(y_test, gs_nb_tvec.predict(X_test)), 4)\n",
    "nb_tvec_recall"
   ]
  },
  {
   "cell_type": "code",
   "execution_count": 61,
   "id": "05d0c1d2",
   "metadata": {},
   "outputs": [
    {
     "data": {
      "text/plain": [
       "0.8205"
      ]
     },
     "execution_count": 61,
     "metadata": {},
     "output_type": "execute_result"
    }
   ],
   "source": [
    "# Obtain F1 score\n",
    "nb_tvec_f1 = np.round(f1_score(y_test, gs_nb_tvec.predict(X_test)), 4)\n",
    "nb_tvec_f1"
   ]
  },
  {
   "cell_type": "code",
   "execution_count": 62,
   "id": "ebc1a5ad",
   "metadata": {},
   "outputs": [
    {
     "data": {
      "image/png": "[encoded data removed]",
      "text/plain": [
       "<Figure size 720x360 with 1 Axes>"
      ]
     },
     "metadata": {},
     "output_type": "display_data"
    }
   ],
   "source": [
    "# Let's plot our ROC curve\n",
    "plot_roc_curve(gs_nb_tvec, X_test, y_test, color=\"darkblue\")\n",
    "plt.plot([0, 1], [0, 1], label = 'Baseline', linestyle = '--', color=\"green\")\n",
    "plt.legend()\n",
    "plt.show()"
   ]
  },
  {
   "cell_type": "code",
   "execution_count": 63,
   "id": "1cf4a7fc",
   "metadata": {},
   "outputs": [
    {
     "data": {
      "text/plain": [
       "0.9512"
      ]
     },
     "execution_count": 63,
     "metadata": {},
     "output_type": "execute_result"
    }
   ],
   "source": [
    "# Obtain area under the ROC curve\n",
    "nb_tvec_roc_auc_score = np.round(roc_auc_score(y_test, gs_nb_tvec.predict_proba(X_test)[:,1]), 4)\n",
    "nb_tvec_roc_auc_score"
   ]
  },
  {
   "cell_type": "markdown",
   "id": "36e1bb91",
   "metadata": {},
   "source": [
    "### Random Forests\n",
    "\n",
    "Random forest is a supervised learning algorithm. It builds a forest with an ensemble of decision trees. It is an easy to use machine learning algorithm that produces a great result most of the time even without hyperparameter tuning\n",
    "\n",
    "**Advantages**:\n",
    "* Random Forests implicitly perform feature selection and generate uncorrelated decision trees. It does this by choosing a random set of features to build each decision tree. This also makes it a great model when you have to work with a high number of features in the data\n",
    "* Random Forests are not influenced by outliers to a fair degree. It does this by binning the variables.\n",
    "* Ability in handling linear and non-linear relationships well\n",
    "* Able to provide high accuracy and balance the bias-variance trade-off well. Since the model’s principle is to average the results across the multiple decision trees it builds, it averages the variance as well\n",
    "\n",
    "**Disadvantages**:\n",
    "* Random Forests are not easily interpretable. They provide feature importance but it does not provide complete visibility into the coefficients as linear regression.\n",
    "* They can be computationally intensive for large datasets (Very true!)\n",
    "* Random forests are like black-boxes, you have very little control over what the model does"
   ]
  },
  {
   "cell_type": "markdown",
   "id": "b168ad97",
   "metadata": {},
   "source": [
    "**Random Forest with Count Vectorizer**"
   ]
  },
  {
   "cell_type": "code",
   "execution_count": 64,
   "id": "d5926826",
   "metadata": {},
   "outputs": [],
   "source": [
    "# Set-up pipeline for tf-idf vectorizer + Random forest\n",
    "pipe_rfc_cvec = Pipeline([\n",
    "    ('cvec', CountVectorizer()),\n",
    "    ('rfc', RandomForestClassifier())\n",
    "])"
   ]
  },
  {
   "cell_type": "code",
   "execution_count": 65,
   "id": "408382e2",
   "metadata": {},
   "outputs": [],
   "source": [
    "rfc_cvec_params = {\n",
    "    'rfc__n_estimators': [100, 150],\n",
    "    'rfc__max_depth': [None, 1, 2],\n",
    "    'cvec__stop_words': [custom_stopwords],\n",
    "    'cvec__max_features': [2000, 3000],\n",
    "    'cvec__min_df': [2, 3],\n",
    "    'cvec__max_df': [.9, .95],\n",
    "    'cvec__ngram_range': [(1,1), (1,2)],\n",
    "}"
   ]
  },
  {
   "cell_type": "code",
   "execution_count": 66,
   "id": "02a042a3",
   "metadata": {},
   "outputs": [],
   "source": [
    "# Instantiate GridSearchCV.\n",
    "gs_rfc_cvec = GridSearchCV(pipe_rfc_cvec, param_grid = rfc_cvec_params, cv=5, verbose=1)"
   ]
  },
  {
   "cell_type": "code",
   "execution_count": 67,
   "id": "0c7fa748",
   "metadata": {},
   "outputs": [
    {
     "name": "stdout",
     "output_type": "stream",
     "text": [
      "Fitting 5 folds for each of 96 candidates, totalling 480 fits\n",
      "Wall time: 3min 57s\n"
     ]
    },
    {
     "data": {
      "text/plain": [
       "GridSearchCV(cv=5,\n",
       "             estimator=Pipeline(steps=[('cvec', CountVectorizer()),\n",
       "                                       ('rfc', RandomForestClassifier())]),\n",
       "             param_grid={'cvec__max_df': [0.9, 0.95],\n",
       "                         'cvec__max_features': [2000, 3000],\n",
       "                         'cvec__min_df': [2, 3],\n",
       "                         'cvec__ngram_range': [(1, 1), (1, 2)],\n",
       "                         'cvec__stop_words': [['english', 'yoga', 'meditation',\n",
       "                                               've', 'it', 'wa', 'like', 'ha',\n",
       "                                               'meditating', 'meditator',\n",
       "                                               'meditative', 'meditate', 'don',\n",
       "                                               'amp', 'nan']],\n",
       "                         'rfc__max_depth': [None, 1, 2],\n",
       "                         'rfc__n_estimators': [100, 150]},\n",
       "             verbose=1)"
      ]
     },
     "execution_count": 67,
     "metadata": {},
     "output_type": "execute_result"
    }
   ],
   "source": [
    "%%time\n",
    "\n",
    "# Fit our model\n",
    "gs_rfc_cvec.fit(X_train, y_train)"
   ]
  },
  {
   "cell_type": "code",
   "execution_count": 68,
   "id": "718bf173",
   "metadata": {},
   "outputs": [
    {
     "name": "stdout",
     "output_type": "stream",
     "text": [
      "0.8648201327775205\n"
     ]
    },
    {
     "data": {
      "text/plain": [
       "{'cvec__max_df': 0.95,\n",
       " 'cvec__max_features': 3000,\n",
       " 'cvec__min_df': 3,\n",
       " 'cvec__ngram_range': (1, 2),\n",
       " 'cvec__stop_words': ['english',\n",
       "  'yoga',\n",
       "  'meditation',\n",
       "  've',\n",
       "  'it',\n",
       "  'wa',\n",
       "  'like',\n",
       "  'ha',\n",
       "  'meditating',\n",
       "  'meditator',\n",
       "  'meditative',\n",
       "  'meditate',\n",
       "  'don',\n",
       "  'amp',\n",
       "  'nan'],\n",
       " 'rfc__max_depth': None,\n",
       " 'rfc__n_estimators': 150}"
      ]
     },
     "execution_count": 68,
     "metadata": {},
     "output_type": "execute_result"
    }
   ],
   "source": [
    "# Find out our best model and parameters\n",
    "print(gs_rfc_cvec.best_score_)\n",
    "gs_rfc_cvec.best_params_"
   ]
  },
  {
   "cell_type": "code",
   "execution_count": 69,
   "id": "781a8e97",
   "metadata": {},
   "outputs": [
    {
     "data": {
      "text/plain": [
       "1.0"
      ]
     },
     "execution_count": 69,
     "metadata": {},
     "output_type": "execute_result"
    }
   ],
   "source": [
    "# Scoring our train split\n",
    "rfc_cvec_accuracy_tr = np.round(gs_rfc_cvec.score(X_train, y_train), 4)\n",
    "rfc_cvec_accuracy_tr"
   ]
  },
  {
   "cell_type": "code",
   "execution_count": 70,
   "id": "50333b47",
   "metadata": {},
   "outputs": [
    {
     "data": {
      "image/png": "[encoded data removed]",
      "text/plain": [
       "<Figure size 720x360 with 2 Axes>"
      ]
     },
     "metadata": {},
     "output_type": "display_data"
    }
   ],
   "source": [
    "# Generating predictions for our test data\n",
    "gs_rfc_cvec_preds = gs_rfc_cvec.predict(X_test)\n",
    "\n",
    "# Creating a confusion matrix\n",
    "gs_rfc_cvec_cm = confusion_matrix(y_test, gs_rfc_cvec_preds)\n",
    "ConfusionMatrixDisplay(confusion_matrix = gs_rfc_cvec_cm, display_labels=['r/yoga', 'r/meditation']).plot();"
   ]
  },
  {
   "cell_type": "code",
   "execution_count": 71,
   "id": "f3af5a2c",
   "metadata": {},
   "outputs": [
    {
     "data": {
      "text/plain": [
       "0.875"
      ]
     },
     "execution_count": 71,
     "metadata": {},
     "output_type": "execute_result"
    }
   ],
   "source": [
    "# Scoring our test split\n",
    "rfc_cvec_accuracy = np.round(gs_rfc_cvec.score(X_test, y_test), 4)\n",
    "rfc_cvec_accuracy"
   ]
  },
  {
   "cell_type": "code",
   "execution_count": 72,
   "id": "0b6912a5",
   "metadata": {},
   "outputs": [
    {
     "data": {
      "text/plain": [
       "0.8868"
      ]
     },
     "execution_count": 72,
     "metadata": {},
     "output_type": "execute_result"
    }
   ],
   "source": [
    "# Obtain Precision score\n",
    "rfc_cvec_precision = np.round(precision_score(y_test, gs_rfc_cvec.predict(X_test)), 4)\n",
    "rfc_cvec_precision"
   ]
  },
  {
   "cell_type": "code",
   "execution_count": 73,
   "id": "2d8cbb20",
   "metadata": {},
   "outputs": [
    {
     "data": {
      "text/plain": [
       "0.8011"
      ]
     },
     "execution_count": 73,
     "metadata": {},
     "output_type": "execute_result"
    }
   ],
   "source": [
    "# Obtain Recall score\n",
    "rfc_cvec_recall = np.round(recall_score(y_test, gs_rfc_cvec.predict(X_test)), 4)\n",
    "rfc_cvec_recall"
   ]
  },
  {
   "cell_type": "code",
   "execution_count": 74,
   "id": "36ffb365",
   "metadata": {},
   "outputs": [
    {
     "data": {
      "text/plain": [
       "0.8418"
      ]
     },
     "execution_count": 74,
     "metadata": {},
     "output_type": "execute_result"
    }
   ],
   "source": [
    "# Obtain F1 score\n",
    "rfc_cvec_f1 = np.round(f1_score(y_test, gs_rfc_cvec.predict(X_test)), 4)\n",
    "rfc_cvec_f1"
   ]
  },
  {
   "cell_type": "code",
   "execution_count": 75,
   "id": "10f8d99d",
   "metadata": {},
   "outputs": [
    {
     "data": {
      "image/png": "[encoded data removed]",
      "text/plain": [
       "<Figure size 720x360 with 1 Axes>"
      ]
     },
     "metadata": {},
     "output_type": "display_data"
    }
   ],
   "source": [
    "# Let's plot our ROC curve\n",
    "plt.rcParams[\"figure.figsize\"] = (10,5)\n",
    "\n",
    "plot_roc_curve(gs_rfc_cvec, X_test, y_test, color=\"darkblue\")\n",
    "plt.plot([0, 1], [0, 1], label = 'Baseline', linestyle = '--', color=\"green\")\n",
    "plt.legend()\n",
    "plt.show()"
   ]
  },
  {
   "cell_type": "code",
   "execution_count": 76,
   "id": "b820e2e4",
   "metadata": {},
   "outputs": [
    {
     "data": {
      "text/plain": [
       "0.9281"
      ]
     },
     "execution_count": 76,
     "metadata": {},
     "output_type": "execute_result"
    }
   ],
   "source": [
    "# Obtain area under the ROC curve\n",
    "rfc_cvec_roc_auc_score = np.round(roc_auc_score(y_test, gs_rfc_cvec.predict_proba(X_test)[:,1]), 4)\n",
    "rfc_cvec_roc_auc_score"
   ]
  },
  {
   "cell_type": "markdown",
   "id": "af5df098",
   "metadata": {},
   "source": [
    "**Random Forest with TidfVectorizer**"
   ]
  },
  {
   "cell_type": "code",
   "execution_count": 77,
   "id": "c70358ee",
   "metadata": {},
   "outputs": [],
   "source": [
    "# Set-up pipeline for tf-idf vectorizer + Random forest\n",
    "pipe_rfc_tvec = Pipeline([\n",
    "    ('tvec', TfidfVectorizer()),\n",
    "    ('rfc', RandomForestClassifier())\n",
    "])"
   ]
  },
  {
   "cell_type": "code",
   "execution_count": 78,
   "id": "b5a68c0f",
   "metadata": {},
   "outputs": [],
   "source": [
    "rfc_tvec_params = {\n",
    "    'rfc__n_estimators': [100, 150],\n",
    "    'rfc__max_depth': [None, 1, 2],\n",
    "    'tvec__max_features': [2_000, 3_000],\n",
    "    'tvec__stop_words': [custom_stopwords],\n",
    "    'tvec__ngram_range': [(1,1), (1,2)]\n",
    "}"
   ]
  },
  {
   "cell_type": "code",
   "execution_count": 79,
   "id": "6ff09333",
   "metadata": {},
   "outputs": [],
   "source": [
    "# Instantiate GridSearchCV.\n",
    "gs_rfc_tvec = GridSearchCV(pipe_rfc_tvec, param_grid = rfc_tvec_params, cv=5, verbose=1)"
   ]
  },
  {
   "cell_type": "code",
   "execution_count": 80,
   "id": "529b235d",
   "metadata": {},
   "outputs": [
    {
     "name": "stdout",
     "output_type": "stream",
     "text": [
      "Fitting 5 folds for each of 24 candidates, totalling 120 fits\n",
      "Wall time: 51.6 s\n"
     ]
    },
    {
     "data": {
      "text/plain": [
       "GridSearchCV(cv=5,\n",
       "             estimator=Pipeline(steps=[('tvec', TfidfVectorizer()),\n",
       "                                       ('rfc', RandomForestClassifier())]),\n",
       "             param_grid={'rfc__max_depth': [None, 1, 2],\n",
       "                         'rfc__n_estimators': [100, 150],\n",
       "                         'tvec__max_features': [2000, 3000],\n",
       "                         'tvec__ngram_range': [(1, 1), (1, 2)],\n",
       "                         'tvec__stop_words': [['english', 'yoga', 'meditation',\n",
       "                                               've', 'it', 'wa', 'like', 'ha',\n",
       "                                               'meditating', 'meditator',\n",
       "                                               'meditative', 'meditate', 'don',\n",
       "                                               'amp', 'nan']]},\n",
       "             verbose=1)"
      ]
     },
     "execution_count": 80,
     "metadata": {},
     "output_type": "execute_result"
    }
   ],
   "source": [
    "%%time\n",
    "gs_rfc_tvec.fit(X_train, y_train)"
   ]
  },
  {
   "cell_type": "code",
   "execution_count": 81,
   "id": "e509bfd6",
   "metadata": {},
   "outputs": [
    {
     "name": "stdout",
     "output_type": "stream",
     "text": [
      "0.8577304307549791\n"
     ]
    },
    {
     "data": {
      "text/plain": [
       "{'rfc__max_depth': None,\n",
       " 'rfc__n_estimators': 150,\n",
       " 'tvec__max_features': 2000,\n",
       " 'tvec__ngram_range': (1, 1),\n",
       " 'tvec__stop_words': ['english',\n",
       "  'yoga',\n",
       "  'meditation',\n",
       "  've',\n",
       "  'it',\n",
       "  'wa',\n",
       "  'like',\n",
       "  'ha',\n",
       "  'meditating',\n",
       "  'meditator',\n",
       "  'meditative',\n",
       "  'meditate',\n",
       "  'don',\n",
       "  'amp',\n",
       "  'nan']}"
      ]
     },
     "execution_count": 81,
     "metadata": {},
     "output_type": "execute_result"
    }
   ],
   "source": [
    "# Find out our best model and parameters\n",
    "print(gs_rfc_tvec.best_score_)\n",
    "gs_rfc_tvec.best_params_"
   ]
  },
  {
   "cell_type": "code",
   "execution_count": 82,
   "id": "ec7cd2f3",
   "metadata": {},
   "outputs": [
    {
     "data": {
      "text/plain": [
       "1.0"
      ]
     },
     "execution_count": 82,
     "metadata": {},
     "output_type": "execute_result"
    }
   ],
   "source": [
    "# Scoring our train split\n",
    "rfc_tvec_accuracy_tr = np.round(gs_rfc_tvec.score(X_train, y_train), 4)\n",
    "rfc_tvec_accuracy_tr"
   ]
  },
  {
   "cell_type": "code",
   "execution_count": 83,
   "id": "50fc5ff5",
   "metadata": {},
   "outputs": [
    {
     "data": {
      "image/png": "[encoded data removed]",
      "text/plain": [
       "<Figure size 720x360 with 2 Axes>"
      ]
     },
     "metadata": {},
     "output_type": "display_data"
    }
   ],
   "source": [
    "# Generating predictions for our test data\n",
    "gs_rfc_tvec_preds = gs_rfc_tvec.predict(X_test)\n",
    "\n",
    "# Creating a confusion matrix\n",
    "gs_rfc_tvec_cm = confusion_matrix(y_test, gs_rfc_tvec_preds)\n",
    "ConfusionMatrixDisplay(confusion_matrix = gs_rfc_tvec_cm, display_labels=['r/yoga', 'r/meditation']).plot();"
   ]
  },
  {
   "cell_type": "code",
   "execution_count": 84,
   "id": "9c306651",
   "metadata": {},
   "outputs": [
    {
     "data": {
      "text/plain": [
       "0.875"
      ]
     },
     "execution_count": 84,
     "metadata": {},
     "output_type": "execute_result"
    }
   ],
   "source": [
    "# Scoring our test split (Accuracy)\n",
    "rfc_tvec_accuracy = np.round(gs_rfc_tvec.score(X_test, y_test), 4)\n",
    "rfc_tvec_accuracy"
   ]
  },
  {
   "cell_type": "code",
   "execution_count": 85,
   "id": "5f2d2209",
   "metadata": {},
   "outputs": [
    {
     "data": {
      "text/plain": [
       "0.8917"
      ]
     },
     "execution_count": 85,
     "metadata": {},
     "output_type": "execute_result"
    }
   ],
   "source": [
    "# Scoring our test split (Precision)\n",
    "rfc_tvec_precision = np.round(precision_score(y_test, gs_rfc_tvec.predict(X_test)), 4)\n",
    "rfc_tvec_precision"
   ]
  },
  {
   "cell_type": "code",
   "execution_count": 86,
   "id": "6f56d28d",
   "metadata": {},
   "outputs": [
    {
     "data": {
      "text/plain": [
       "0.7955"
      ]
     },
     "execution_count": 86,
     "metadata": {},
     "output_type": "execute_result"
    }
   ],
   "source": [
    "# Scoring our test split (Recall)\n",
    "rfc_tvec_recall = np.round(recall_score(y_test, gs_rfc_tvec.predict(X_test)), 4)\n",
    "rfc_tvec_recall"
   ]
  },
  {
   "cell_type": "code",
   "execution_count": 87,
   "id": "8b4adb4e",
   "metadata": {},
   "outputs": [
    {
     "data": {
      "text/plain": [
       "0.8408"
      ]
     },
     "execution_count": 87,
     "metadata": {},
     "output_type": "execute_result"
    }
   ],
   "source": [
    "# Scoring our test split (Recall)\n",
    "rfc_tvec_f1 = np.round(f1_score(y_test, gs_rfc_tvec.predict(X_test)), 4)\n",
    "rfc_tvec_f1"
   ]
  },
  {
   "cell_type": "code",
   "execution_count": 88,
   "id": "ca872b08",
   "metadata": {},
   "outputs": [
    {
     "data": {
      "image/png": "[encoded data removed]",
      "text/plain": [
       "<Figure size 720x360 with 1 Axes>"
      ]
     },
     "metadata": {},
     "output_type": "display_data"
    }
   ],
   "source": [
    "# Let's plot our ROC curve\n",
    "plt.rcParams[\"figure.figsize\"] = (10,5)\n",
    "\n",
    "plot_roc_curve(gs_rfc_tvec, X_test, y_test, color=\"darkblue\")\n",
    "plt.plot([0, 1], [0, 1], label = 'Baseline', linestyle = '--', color=\"green\")\n",
    "plt.legend()\n",
    "plt.show()"
   ]
  },
  {
   "cell_type": "code",
   "execution_count": 89,
   "id": "89657e11",
   "metadata": {},
   "outputs": [
    {
     "data": {
      "text/plain": [
       "0.9302"
      ]
     },
     "execution_count": 89,
     "metadata": {},
     "output_type": "execute_result"
    }
   ],
   "source": [
    "# Obtain area under ROC\n",
    "rfc_tvec_roc_auc_score = np.round(roc_auc_score(y_test, gs_rfc_tvec.predict_proba(X_test)[:,1]), 4)\n",
    "rfc_tvec_roc_auc_score"
   ]
  },
  {
   "cell_type": "markdown",
   "id": "4ccda86a",
   "metadata": {},
   "source": [
    "# Model Evaluation"
   ]
  },
  {
   "cell_type": "code",
   "execution_count": 90,
   "id": "d4f46d9f",
   "metadata": {},
   "outputs": [],
   "source": [
    "from prettytable import PrettyTable"
   ]
  },
  {
   "cell_type": "code",
   "execution_count": 91,
   "id": "1140421d",
   "metadata": {},
   "outputs": [],
   "source": [
    "# Creation of our pretty table\n",
    "t = PrettyTable(['Model', 'Vectorizer', 'Accuracy (Train)', 'Accuracy (Test)', \n",
    "                 'Precision (Test)', 'Recall (Test)', 'F1 Score', 'ROC AUC'])\n",
    "\n",
    "t.add_row(['Logistic Regression', 'CountVect', logr_cvec_accuracy_tr, logr_cvec_accuracy,\n",
    "          logr_cvec_precision, logr_cvec_recall, logr_cvec_f1, logr_cvec_roc_auc_score])\n",
    "\n",
    "t.add_row(['Logistic Regression', 'TFIDF', logr_tvec_accuracy_tr, logr_tvec_accuracy,\n",
    "          logr_tvec_precision, logr_tvec_recall, logr_tvec_f1, logr_tvec_roc_auc_score])\n",
    "\n",
    "t.add_row(['Naive Bayes', 'CountVect', nb_cvec_accuracy_tr, nb_cvec_accuracy,\n",
    "          nb_cvec_precision, nb_cvec_recall, nb_cvec_f1, nb_cvec_roc_auc_score])\n",
    "\n",
    "t.add_row(['Naive Bayes', 'TFIDF', nb_tvec_accuracy_tr, nb_tvec_accuracy,\n",
    "          nb_tvec_precision, nb_tvec_recall, nb_tvec_f1, nb_tvec_roc_auc_score])\n",
    "\n",
    "t.add_row(['Random Forest', 'CountVect', rfc_cvec_accuracy_tr, rfc_cvec_accuracy,\n",
    "          rfc_cvec_precision, rfc_cvec_recall, rfc_cvec_f1, rfc_cvec_roc_auc_score])\n",
    "\n",
    "t.add_row(['Random Forest', 'TFIDF', rfc_tvec_accuracy_tr, rfc_tvec_accuracy,\n",
    "          rfc_tvec_precision, rfc_tvec_recall, rfc_tvec_f1, rfc_tvec_roc_auc_score])"
   ]
  },
  {
   "cell_type": "code",
   "execution_count": 92,
   "id": "5a0f7021",
   "metadata": {},
   "outputs": [
    {
     "data": {
      "text/html": [
       "<table>\n",
       "    <thead>\n",
       "        <tr>\n",
       "            <th>Model</th>\n",
       "            <th>Vectorizer</th>\n",
       "            <th>Accuracy (Train)</th>\n",
       "            <th>Accuracy (Test)</th>\n",
       "            <th>Precision (Test)</th>\n",
       "            <th>Recall (Test)</th>\n",
       "            <th>F1 Score</th>\n",
       "            <th>ROC AUC</th>\n",
       "        </tr>\n",
       "    </thead>\n",
       "    <tbody>\n",
       "        <tr>\n",
       "            <td>Logistic Regression</td>\n",
       "            <td>CountVect</td>\n",
       "            <td>0.9945</td>\n",
       "            <td>0.8538</td>\n",
       "            <td>0.875</td>\n",
       "            <td>0.7557</td>\n",
       "            <td>0.811</td>\n",
       "            <td>0.9275</td>\n",
       "        </tr>\n",
       "        <tr>\n",
       "            <td>Logistic Regression</td>\n",
       "            <td>TFIDF</td>\n",
       "            <td>0.9513</td>\n",
       "            <td>0.8726</td>\n",
       "            <td>0.9766</td>\n",
       "            <td>0.7102</td>\n",
       "            <td>0.8224</td>\n",
       "            <td>0.9496</td>\n",
       "        </tr>\n",
       "        <tr>\n",
       "            <td>Naive Bayes</td>\n",
       "            <td>CountVect</td>\n",
       "            <td>0.941</td>\n",
       "            <td>0.8703</td>\n",
       "            <td>0.8497</td>\n",
       "            <td>0.8352</td>\n",
       "            <td>0.8424</td>\n",
       "            <td>0.9446</td>\n",
       "        </tr>\n",
       "        <tr>\n",
       "            <td>Naive Bayes</td>\n",
       "            <td>TFIDF</td>\n",
       "            <td>0.9237</td>\n",
       "            <td>0.8679</td>\n",
       "            <td>0.9412</td>\n",
       "            <td>0.7273</td>\n",
       "            <td>0.8205</td>\n",
       "            <td>0.9512</td>\n",
       "        </tr>\n",
       "        <tr>\n",
       "            <td>Random Forest</td>\n",
       "            <td>CountVect</td>\n",
       "            <td>1.0</td>\n",
       "            <td>0.875</td>\n",
       "            <td>0.8868</td>\n",
       "            <td>0.8011</td>\n",
       "            <td>0.8418</td>\n",
       "            <td>0.9281</td>\n",
       "        </tr>\n",
       "        <tr>\n",
       "            <td>Random Forest</td>\n",
       "            <td>TFIDF</td>\n",
       "            <td>1.0</td>\n",
       "            <td>0.875</td>\n",
       "            <td>0.8917</td>\n",
       "            <td>0.7955</td>\n",
       "            <td>0.8408</td>\n",
       "            <td>0.9302</td>\n",
       "        </tr>\n",
       "    </tbody>\n",
       "</table>"
      ],
      "text/plain": [
       "+---------------------+------------+------------------+-----------------+------------------+---------------+----------+---------+\n",
       "|        Model        | Vectorizer | Accuracy (Train) | Accuracy (Test) | Precision (Test) | Recall (Test) | F1 Score | ROC AUC |\n",
       "+---------------------+------------+------------------+-----------------+------------------+---------------+----------+---------+\n",
       "| Logistic Regression | CountVect  |      0.9945      |      0.8538     |      0.875       |     0.7557    |  0.811   |  0.9275 |\n",
       "| Logistic Regression |   TFIDF    |      0.9513      |      0.8726     |      0.9766      |     0.7102    |  0.8224  |  0.9496 |\n",
       "|     Naive Bayes     | CountVect  |      0.941       |      0.8703     |      0.8497      |     0.8352    |  0.8424  |  0.9446 |\n",
       "|     Naive Bayes     |   TFIDF    |      0.9237      |      0.8679     |      0.9412      |     0.7273    |  0.8205  |  0.9512 |\n",
       "|    Random Forest    | CountVect  |       1.0        |      0.875      |      0.8868      |     0.8011    |  0.8418  |  0.9281 |\n",
       "|    Random Forest    |   TFIDF    |       1.0        |      0.875      |      0.8917      |     0.7955    |  0.8408  |  0.9302 |\n",
       "+---------------------+------------+------------------+-----------------+------------------+---------------+----------+---------+"
      ]
     },
     "execution_count": 92,
     "metadata": {},
     "output_type": "execute_result"
    }
   ],
   "source": [
    "# See snapshot of our model(s) below\n",
    "t"
   ]
  },
  {
   "cell_type": "markdown",
   "id": "ee21e092",
   "metadata": {},
   "source": [
    "**My thought process**\n",
    "\n",
    "Our preferred model to implement in our workflow going forward would be a Naive Bayes model with a Countvectorizer overlay. Our focus is on optimising the following metrics:\n",
    "\n",
    "**Precision**\n",
    "\n",
    "*Precision* gives us information about the model's performance with respect to false positives (How many did we catch?). Tying this back to our problem statement, this would mean the measure of posts we correctly classify as falling under r/yoga out of all r/yoga posts.\n",
    "\n",
    "$$\n",
    "Precision = \\frac{\\text{True Positive}} {(\\text{True Positive} + \\text{False Positive})}\n",
    "$$\n",
    "\n",
    "**Recall**\n",
    "\n",
    "On the other hand, recall gives us information about a classifier's performance with respect to false negatives (How many did we miss?). Out of all r/yoga posts, this tells us how many we correctly identify as falling under r/yoga.\n",
    "\n",
    "$$\n",
    "Recall = \\frac{\\text{True Positive}} {(\\text{True Positive} + \\text{False Negative})}\n",
    "$$\n",
    "\n",
    "\n",
    "**F1 score**\n",
    "\n",
    "The F1 score is the harmonic mean (or, simply **balance**) of both ***precision and recall***. This forces us to make a trade-off between Precision and Recall. \n",
    "\n",
    "$$\n",
    "F1 = 2*\\frac{(\\text{Precision}*\\text{Recall})} {(\\text{Precision} + \\text{Recall})}\n",
    "$$\n",
    "\n",
    "\n",
    "\n",
    "**Overall**: \n",
    "\n",
    "The Naive Bayes model with the CountVectorizer overlay has the best F1 score here. As our dataset is not significantly unbalanced, we do not to tweak our false positive thresholds, hence we do not need to place a lot of emphasis on the ROC AUC.\n",
    "\n",
    "With regard time taken to run the model, the Naive Bayes model is less computationally intensive as compared to the random forest model. It is also less of a black-box, in our assessment"
   ]
  },
  {
   "cell_type": "markdown",
   "id": "4883bda1",
   "metadata": {},
   "source": [
    "## Conclusion"
   ]
  },
  {
   "cell_type": "markdown",
   "id": "17d83fde",
   "metadata": {},
   "source": [
    "Our best model appears to be a Naive Bayes + Count Vectorizer mix. We are optimising for our F1 score."
   ]
  },
  {
   "cell_type": "code",
   "execution_count": 93,
   "id": "67412f6a",
   "metadata": {},
   "outputs": [],
   "source": [
    "# Converting our model outputs into a dataframe for easier charting\n",
    "nb_cvec_feat = pd.concat([pd.DataFrame(gs_nb_cvec.best_estimator_.named_steps['cvec'].get_feature_names()), \n",
    "                          pd.DataFrame(np.exp(gs_nb_cvec.best_estimator_.named_steps['nb'].feature_log_prob_[0])),\n",
    "                          pd.DataFrame(np.exp(gs_nb_cvec.best_estimator_.named_steps['nb'].feature_log_prob_[1]))], axis=1)"
   ]
  },
  {
   "cell_type": "code",
   "execution_count": 94,
   "id": "c11f5d86",
   "metadata": {},
   "outputs": [
    {
     "data": {
      "text/plain": [
       "Pipeline(steps=[('cvec',\n",
       "                 CountVectorizer(max_df=0.9, max_features=5000, min_df=2,\n",
       "                                 ngram_range=(1, 2),\n",
       "                                 stop_words=['english', 'yoga', 'meditation',\n",
       "                                             've', 'it', 'wa', 'like', 'ha',\n",
       "                                             'meditating', 'meditator',\n",
       "                                             'meditative', 'meditate', 'don',\n",
       "                                             'amp', 'nan'])),\n",
       "                ('nb', MultinomialNB(alpha=0.9))])"
      ]
     },
     "execution_count": 94,
     "metadata": {},
     "output_type": "execute_result"
    }
   ],
   "source": [
    "# Finding our best estimators\n",
    "gs_nb_cvec.best_estimator_"
   ]
  },
  {
   "cell_type": "code",
   "execution_count": 95,
   "id": "b379a031",
   "metadata": {},
   "outputs": [],
   "source": [
    "# Let's create a dataframe of our features with their respective probabilities of belonging to r/mediation and r/yoga subreddits\n",
    "nb_cvec_feat.columns = ['feature', 'prob_meditation', 'prob_yoga']"
   ]
  },
  {
   "cell_type": "code",
   "execution_count": 96,
   "id": "e8eaf7c5",
   "metadata": {},
   "outputs": [
    {
     "data": {
      "text/html": [
       "<div>\n",
       "<style scoped>\n",
       "    .dataframe tbody tr th:only-of-type {\n",
       "        vertical-align: middle;\n",
       "    }\n",
       "\n",
       "    .dataframe tbody tr th {\n",
       "        vertical-align: top;\n",
       "    }\n",
       "\n",
       "    .dataframe thead th {\n",
       "        text-align: right;\n",
       "    }\n",
       "</style>\n",
       "<table border=\"1\" class=\"dataframe\">\n",
       "  <thead>\n",
       "    <tr style=\"text-align: right;\">\n",
       "      <th></th>\n",
       "      <th>feature</th>\n",
       "      <th>prob_meditation</th>\n",
       "      <th>prob_yoga</th>\n",
       "    </tr>\n",
       "  </thead>\n",
       "  <tbody>\n",
       "    <tr>\n",
       "      <th>4998</th>\n",
       "      <td>zone</td>\n",
       "      <td>0.000220</td>\n",
       "      <td>0.000066</td>\n",
       "    </tr>\n",
       "    <tr>\n",
       "      <th>4999</th>\n",
       "      <td>zoom</td>\n",
       "      <td>0.000064</td>\n",
       "      <td>0.000274</td>\n",
       "    </tr>\n",
       "  </tbody>\n",
       "</table>\n",
       "</div>"
      ],
      "text/plain": [
       "     feature  prob_meditation  prob_yoga\n",
       "4998    zone         0.000220   0.000066\n",
       "4999    zoom         0.000064   0.000274"
      ]
     },
     "execution_count": 96,
     "metadata": {},
     "output_type": "execute_result"
    }
   ],
   "source": [
    "# A sneak-peak at our dataframe\n",
    "nb_cvec_feat.tail(2)"
   ]
  },
  {
   "cell_type": "code",
   "execution_count": 97,
   "id": "ac7c4b79",
   "metadata": {},
   "outputs": [],
   "source": [
    "# Extracting the top 100 words from each class\n",
    "top_words_meditation = nb_cvec_feat.sort_values(by=['prob_meditation'], ascending=False).head(100)\n",
    "top_words_yoga = nb_cvec_feat.sort_values(by=['prob_yoga'], ascending=False)[['feature', 'prob_yoga']].head(100)"
   ]
  },
  {
   "cell_type": "code",
   "execution_count": 98,
   "id": "a6112950",
   "metadata": {},
   "outputs": [
    {
     "data": {
      "image/png": "[encoded data removed]",
      "text/plain": [
       "<Figure size 1080x360 with 2 Axes>"
      ]
     },
     "metadata": {},
     "output_type": "display_data"
    }
   ],
   "source": [
    "# Let's chart the top 20 words that offer the highest probabilities of a particular post belonging to r/yoga\n",
    "sns.set_style(style=\"darkgrid\")\n",
    "fig, axs = plt.subplots(1, 2)\n",
    "fig.set_size_inches(15, 5)\n",
    "\n",
    "g1 = sns.pointplot(data=top_words_yoga.head(20), ax=axs[0],\n",
    "            y='feature', x='prob_yoga', palette='dark:lightblue_r')\n",
    "\n",
    "g2 = sns.pointplot(data=top_words_meditation.head(20), ax=axs[1],\n",
    "            y='feature', x='prob_meditation', palette='dark:salmon_r')\n",
    "\n",
    "g1.set_ylabel(\"Word\")\n",
    "g2.set_ylabel(\"\")\n",
    "g1.set_xlabel(\"Probability (r/yoga)\")\n",
    "g2.set_xlabel(\"Probability (r/meditation)\")\n",
    "plt.title(\"Top 20 predictor words\")\n",
    "plt.show()"
   ]
  },
  {
   "cell_type": "code",
   "execution_count": 99,
   "id": "dac74e9d",
   "metadata": {},
   "outputs": [],
   "source": [
    "# Focusing on the top predictor words unique to yoga\n",
    "unique_list_yoga = []\n",
    "unique_list_yoga_probs = []\n",
    "for word, prob in top_words_yoga[['feature', 'prob_yoga']].values:\n",
    "    if word not in top_words_meditation['feature'].values:\n",
    "        unique_list_yoga.append(word)\n",
    "        unique_list_yoga_probs.append(prob)"
   ]
  },
  {
   "cell_type": "code",
   "execution_count": 100,
   "id": "4f3af929",
   "metadata": {},
   "outputs": [],
   "source": [
    "# Creation of unique yoga predictors\n",
    "top_unique_words_yoga = pd.DataFrame()\n",
    "top_unique_words_yoga['feature'] = unique_list_yoga\n",
    "top_unique_words_yoga['prob'] = unique_list_yoga_probs\n",
    "top_unique_words_yoga['class'] = 'yoga'"
   ]
  },
  {
   "cell_type": "code",
   "execution_count": 101,
   "id": "cc7d0bbc",
   "metadata": {},
   "outputs": [],
   "source": [
    "# Focusing on the top predictor words that have considerable overlaps between yoga and meditation\n",
    "overlap_list = []\n",
    "overlap_list_probs = []\n",
    "for word, prob in top_words_yoga[['feature', 'prob_yoga']].values:\n",
    "    if word in top_words_meditation['feature'].values:\n",
    "        overlap_list.append(word)\n",
    "        overlap_list_probs.append(prob)"
   ]
  },
  {
   "cell_type": "code",
   "execution_count": 102,
   "id": "077956c6",
   "metadata": {},
   "outputs": [],
   "source": [
    "# Creation of predictors that overlap\n",
    "top_overlap_words = pd.DataFrame()\n",
    "top_overlap_words['feature'] = overlap_list\n",
    "top_overlap_words['prob'] = overlap_list_probs\n",
    "top_overlap_words['class'] = 'overlap'"
   ]
  },
  {
   "cell_type": "code",
   "execution_count": 103,
   "id": "b9f7f742",
   "metadata": {},
   "outputs": [],
   "source": [
    "# Focusing on the top predictor words unique to meditation\n",
    "unique_list_medit = []\n",
    "unique_list_medit_probs = []\n",
    "for word, prob in top_words_meditation[['feature', 'prob_meditation']].values:\n",
    "    if word not in top_words_yoga['feature'].values:\n",
    "        unique_list_medit.append(word)\n",
    "        unique_list_medit_probs.append(prob)"
   ]
  },
  {
   "cell_type": "code",
   "execution_count": 104,
   "id": "0d07dd9b",
   "metadata": {},
   "outputs": [],
   "source": [
    "# Creation of unique meditation predictors\n",
    "top_unique_words_medit = pd.DataFrame()\n",
    "top_unique_words_medit['feature'] = unique_list_medit\n",
    "top_unique_words_medit['prob'] = unique_list_medit_probs\n",
    "top_unique_words_medit['class'] = 'meditation'"
   ]
  },
  {
   "cell_type": "code",
   "execution_count": 105,
   "id": "97cbe2ee",
   "metadata": {},
   "outputs": [],
   "source": [
    "# Let's merge these datasets above\n",
    "combined_predictors = pd.concat([top_unique_words_yoga.head(10), \n",
    "                                 top_unique_words_medit.head(10), \n",
    "                                 top_overlap_words.head(10)], axis=0)\n",
    "\n",
    "combined_predictors.sort_values(by='prob', inplace=True)"
   ]
  },
  {
   "cell_type": "code",
   "execution_count": 106,
   "id": "2ef06a39",
   "metadata": {},
   "outputs": [
    {
     "data": {
      "image/png": "[encoded data removed]",
      "text/plain": [
       "<Figure size 963.435x432 with 1 Axes>"
      ]
     },
     "metadata": {},
     "output_type": "display_data"
    }
   ],
   "source": [
    "# Let's chart the top 10 words that offer the highest probabilities of a particular post belonging to r/yoga\n",
    "sns.catplot(data=combined_predictors, y='feature', x='prob', kind='bar', \n",
    "            hue='class', dodge=False, palette=['salmon', 'lightblue', 'grey'], aspect=2, height=6)\n",
    "plt.title(\"Top predictors for our classification model (Top 100)\", size=15)\n",
    "plt.ylabel('Word')\n",
    "plt.xlabel('Probability of being classified as r/yoga (Yoga, Overlap) or r/meditation')\n",
    "plt.show()"
   ]
  },
  {
   "cell_type": "markdown",
   "id": "9a0df07c",
   "metadata": {},
   "source": [
    "**Our findings**:\n",
    "\n",
    "There are considerable overlaps in the top predictor words for r/yoga and r/meditation classifications. However, certain words stand out for r/yoga (i.e. pose, mat, class, week, teacher, studio, video).\n",
    "\n",
    "These terms tend to be found in posts - that contain concerns and challenges faced by yoga enthusiasts (i.e. incorrect postures, beginner challenges, bodyaches after yoga, questions around various poses)."
   ]
  },
  {
   "cell_type": "code",
   "execution_count": 107,
   "id": "f030990f",
   "metadata": {},
   "outputs": [],
   "source": [
    "# Analyzing the sentiment produced by our top predictor words\n",
    "sid = SentimentIntensityAnalyzer()"
   ]
  },
  {
   "cell_type": "code",
   "execution_count": 108,
   "id": "5bab3e76",
   "metadata": {},
   "outputs": [],
   "source": [
    "combined_predictors['VADERscores'] = combined_predictors['feature'].apply(lambda feature: sid.polarity_scores(feature))\n",
    "combined_predictors['VADERcompound'] = combined_predictors['VADERscores'].apply(lambda score_dict: score_dict['compound'])"
   ]
  },
  {
   "cell_type": "code",
   "execution_count": 109,
   "id": "de0a1956",
   "metadata": {},
   "outputs": [
    {
     "data": {
      "image/png": "[encoded data removed]",
      "text/plain": [
       "<Figure size 963.435x432 with 1 Axes>"
      ]
     },
     "metadata": {},
     "output_type": "display_data"
    }
   ],
   "source": [
    "# Let's chart the top 10 words that offer the highest probabilities of a particular post belonging to r/yoga\n",
    "sns.catplot(data=combined_predictors, y='feature', x='VADERcompound', kind='bar', \n",
    "            hue='class', dodge=False, palette=['lightblue', 'darkorange', 'grey'], aspect=2, height=6)\n",
    "plt.title(\"Top predictors for our classification model (Top 100)\", size=15)\n",
    "plt.ylabel('Word')\n",
    "plt.xlabel('Probability of being classified as r/yoga (Yoga, Overlap) or r/meditation')\n",
    "plt.show()"
   ]
  },
  {
   "cell_type": "markdown",
   "id": "4022a5b0",
   "metadata": {},
   "source": [
    "**Our findings**:\n",
    "\n",
    "Most of the top predictor words are fairly neutral. Although anxiety shows up as a negative score, we are not able to see how the word was used in a larger context. This is a limitation of our Naive Bayers model."
   ]
  },
  {
   "cell_type": "markdown",
   "id": "2b610783",
   "metadata": {},
   "source": [
    "## Takeaways\n",
    "\n",
    "**Recommendations**\n",
    "* Our text-based classifier model is able to accurately pin-point posts that fall under r/yoga - This means that we will be able to improve efficacy of our marketing approach\n",
    "* Our identification of top-words can be used to optimise the messaging of marketing content or product description\n",
    "* There appears to be a demand for yoga instructional videos / online classes on a variety of poses\n",
    "* Mats also appear to feature in a lot of r/yoga subreddit discussions; We could improve studio sign-up rates by throwing in a complimentary yoga mat\n",
    "* There are also numerous mentions of studios / classes - Marketing materials should clearly list locations of studios and provide detailed time-tables of yoga classes"
   ]
  },
  {
   "cell_type": "markdown",
   "id": "08e33d9f",
   "metadata": {},
   "source": [
    "**Future Enhancements**\n",
    "* We can look and identify more subreddits (i.e. Hot and top sections) to determine what is trending\n",
    "* Exploring a variety of models (i.e. SVM, Gradient descent and deep learning models)\n",
    "* We can run sentiment analysis on subreddit post comments\n",
    "* Stop-words can be further customised to optimise our models\n",
    "\n",
    "--- END ---"
   ]
  }
 ],
 "metadata": {
  "kernelspec": {
   "display_name": "Python 3",
   "language": "python",
   "name": "python3"
  },
  "language_info": {
   "codemirror_mode": {
    "name": "ipython",
    "version": 3
   },
   "file_extension": ".py",
   "mimetype": "text/x-python",
   "name": "python",
   "nbconvert_exporter": "python",
   "pygments_lexer": "ipython3",
   "version": "3.8.8"
  }
 },
 "nbformat": 4,
 "nbformat_minor": 5
}
